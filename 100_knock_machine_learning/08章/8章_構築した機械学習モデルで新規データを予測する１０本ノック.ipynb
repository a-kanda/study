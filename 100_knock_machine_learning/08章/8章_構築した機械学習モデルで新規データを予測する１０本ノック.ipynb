{
 "cells": [
  {
   "cell_type": "code",
   "execution_count": 1,
   "metadata": {},
   "outputs": [],
   "source": [
    "# Google Colaboratoryを使用する場合は、下記のコメントアウトを外し、実行してください"
   ]
  },
  {
   "cell_type": "code",
   "execution_count": 2,
   "metadata": {},
   "outputs": [],
   "source": [
    "# # 下記セルを実行すると、authorization codeの入力を求められます。\n",
    "# # 出力されたリンク先をクリックし、Googleアカウントにログインし、\n",
    "# # authorization codeをコピーし、貼り付けをおこなってください。\n",
    "# import os\n",
    "# from google.colab import drive\n",
    "# drive.mount('/content/drive')"
   ]
  },
  {
   "cell_type": "code",
   "execution_count": 3,
   "metadata": {},
   "outputs": [],
   "source": [
    "# working_dir = 'MLSys_100Knocks' #　※※自分で作成したフォルダパスが異なる場合こちらを変更してください。※※\n",
    "# path = f'/content/drive/MyDrive/{working_dir}/本章/8章'\n",
    "# os.chdir(path)\n",
    "# ! pip install japanize-matplotlib"
   ]
  },
  {
   "cell_type": "markdown",
   "metadata": {},
   "source": [
    "# ８章 構築した機械学習モデルで新規データを予測する１０本ノック\n",
    "\n"
   ]
  },
  {
   "cell_type": "markdown",
   "metadata": {},
   "source": [
    "### ノック７１：フォルダ生成をしてデータ読み込みの準備をしよう"
   ]
  },
  {
   "cell_type": "code",
   "execution_count": 1,
   "metadata": {},
   "outputs": [],
   "source": [
    "import os\n",
    "data_dir = 'data'\n",
    "input_dir = os.path.join(data_dir, '0_input')\n",
    "output_dir = os.path.join(data_dir, '1_output')\n",
    "master_dir = os.path.join(data_dir, '99_master')\n",
    "model_dir = 'models'\n",
    "os.makedirs(input_dir,exist_ok=True)\n",
    "os.makedirs(output_dir,exist_ok=True)\n",
    "os.makedirs(master_dir,exist_ok=True)\n",
    "os.makedirs(model_dir,exist_ok=True)"
   ]
  },
  {
   "cell_type": "markdown",
   "metadata": {},
   "source": [
    "##### ＊＊必ずデータやモデルの配置をおこなってください。＊＊"
   ]
  },
  {
   "cell_type": "markdown",
   "metadata": {},
   "source": [
    "### ノック７２：予測したい新規データを読み込もう"
   ]
  },
  {
   "cell_type": "code",
   "execution_count": 2,
   "metadata": {},
   "outputs": [],
   "source": [
    "import pandas as pd\n",
    "m_area_file = 'm_area.csv'\n",
    "m_store_file = 'm_store.csv'\n",
    "m_area = pd.read_csv(os.path.join(master_dir, m_area_file))\n",
    "m_store = pd.read_csv(os.path.join(master_dir, m_store_file))"
   ]
  },
  {
   "cell_type": "code",
   "execution_count": 3,
   "metadata": {},
   "outputs": [
    {
     "name": "stdout",
     "output_type": "stream",
     "text": [
      "日付が一致しました\n"
     ]
    }
   ],
   "source": [
    "tg_ym = \"202003\"\n",
    "target_file = \"tbl_order_\" + tg_ym + \".csv\"\n",
    "target_data = pd.read_csv(os.path.join(input_dir, target_file))\n",
    "\n",
    "import datetime\n",
    "max_date = pd.to_datetime(target_data[\"order_accept_date\"]).max()\n",
    "min_date = pd.to_datetime(target_data[\"order_accept_date\"]).min()\n",
    "max_str_date = max_date.strftime(\"%Y%m\")\n",
    "min_str_date = min_date.strftime(\"%Y%m\")\n",
    "if tg_ym == min_str_date and tg_ym == max_str_date:\n",
    "    print(\"日付が一致しました\")\n",
    "else:\n",
    "    raise Exception(\"日付が一致しません\")"
   ]
  },
  {
   "cell_type": "markdown",
   "metadata": {},
   "source": [
    "### ノック７３：新規データを店舗別で集計しよう"
   ]
  },
  {
   "cell_type": "code",
   "execution_count": 4,
   "metadata": {},
   "outputs": [],
   "source": [
    "def calc_delta(t):\n",
    "    t1, t2 = t\n",
    "    delta = t2 - t1\n",
    "    return delta.total_seconds()/60\n",
    "\n",
    "def data_processing(order_data):\n",
    "    order_data = order_data.loc[order_data['store_id'] != 999]\n",
    "    order_data = pd.merge(order_data, m_store, on='store_id', how='left')\n",
    "    order_data = pd.merge(order_data, m_area, on='area_cd', how='left')\n",
    "    order_data.loc[order_data['takeout_flag'] == 0, 'takeout_name'] = 'デリバリー'\n",
    "    order_data.loc[order_data['takeout_flag'] == 1, 'takeout_name'] = 'お持ち帰り'\n",
    "    order_data.loc[order_data['status'] == 0, 'status_name'] = '受付'\n",
    "    order_data.loc[order_data['status'] == 1, 'status_name'] = 'お支払済'\n",
    "    order_data.loc[order_data['status'] == 2, 'status_name'] = 'お渡し済'\n",
    "    order_data.loc[order_data['status'] == 9, 'status_name'] = 'キャンセル'\n",
    "    \n",
    "    order_data.loc[:,'order_accept_datetime'] = pd.to_datetime(order_data['order_accept_date'])\n",
    "    order_data.loc[:,'delivered_datetime'] = pd.to_datetime(order_data['delivered_date'])\n",
    "    order_data.loc[:,'delta'] = order_data[['order_accept_datetime', 'delivered_datetime']].apply(calc_delta, axis=1)\n",
    "    order_data.loc[:,'order_accept_hour'] = order_data['order_accept_datetime'].dt.hour\n",
    "    order_data.loc[:,'order_accept_weekday'] = order_data['order_accept_datetime'].dt.weekday\n",
    "    order_data.loc[order_data['order_accept_weekday'] >= 5, 'weekday_info'] = '休日'\n",
    "    order_data.loc[order_data['order_accept_weekday'] < 5, 'weekday_info'] = '平日'\n",
    "    \n",
    "    store_data = order_data.groupby(['store_name']).count()[['order_id']]\n",
    "    store_f = order_data.loc[(order_data['status_name']==\"お渡し済\")|\n",
    "                             (order_data['status_name']==\"お支払済\")].groupby(['store_name']).count()[['order_id']]\n",
    "    store_c = order_data.loc[order_data['status_name']==\"キャンセル\"].groupby(['store_name']).count()[['order_id']]\n",
    "    store_d = order_data.loc[order_data['takeout_name']==\"デリバリー\"].groupby(['store_name']).count()[['order_id']]\n",
    "    store_t = order_data.loc[order_data['takeout_name']==\"お持ち帰り\"].groupby(['store_name']).count()[['order_id']]\n",
    "    store_weekday = order_data.loc[order_data['weekday_info']==\"平日\"].groupby(['store_name']).count()[['order_id']]\n",
    "    store_weekend = order_data.loc[order_data['weekday_info']==\"休日\"].groupby(['store_name']).count()[['order_id']]\n",
    "    times = order_data['order_accept_hour'].unique()\n",
    "    store_time = []\n",
    "    for time in times:\n",
    "        time_tmp = order_data.loc[order_data['order_accept_hour']==time].groupby(['store_name']).count()[['order_id']]\n",
    "        time_tmp.columns = [f'order_time_{time}']\n",
    "        store_time.append(time_tmp)\n",
    "    store_time = pd.concat(store_time, axis=1)\n",
    "    store_delta = order_data.loc[order_data['status_name']!=\"キャンセル\"].groupby(['store_name']).mean()[['delta']]\n",
    "    store_data.columns = ['order']\n",
    "    store_f.columns = ['order_fin']\n",
    "    store_c.columns = ['order_cancel']\n",
    "    store_d.columns = ['order_delivery']\n",
    "    store_t.columns = ['order_takeout']\n",
    "    store_delta.columns = ['delta_avg']\n",
    "    store_weekday.columns = ['order_weekday']\n",
    "    store_weekend.columns = ['order_weekend']\n",
    "    store_data = pd.concat([store_data, store_f, store_c, store_d, store_t, \n",
    "                        store_weekday, store_weekend, store_time, store_delta], axis=1)\n",
    "    return store_data"
   ]
  },
  {
   "cell_type": "code",
   "execution_count": 5,
   "metadata": {},
   "outputs": [],
   "source": [
    "store_data = data_processing(target_data)\n",
    "store_data.reset_index(drop=False, inplace=True)\n",
    "actual_data = store_data.copy()"
   ]
  },
  {
   "cell_type": "markdown",
   "metadata": {},
   "source": [
    "### ノック７４：新規データのカテゴリカル変数対応をしよう"
   ]
  },
  {
   "cell_type": "code",
   "execution_count": 6,
   "metadata": {},
   "outputs": [
    {
     "data": {
      "text/html": [
       "<div>\n",
       "<style scoped>\n",
       "    .dataframe tbody tr th:only-of-type {\n",
       "        vertical-align: middle;\n",
       "    }\n",
       "\n",
       "    .dataframe tbody tr th {\n",
       "        vertical-align: top;\n",
       "    }\n",
       "\n",
       "    .dataframe thead th {\n",
       "        text-align: right;\n",
       "    }\n",
       "</style>\n",
       "<table border=\"1\" class=\"dataframe\">\n",
       "  <thead>\n",
       "    <tr style=\"text-align: right;\">\n",
       "      <th></th>\n",
       "      <th>store_name</th>\n",
       "      <th>order</th>\n",
       "      <th>order_fin</th>\n",
       "      <th>order_cancel</th>\n",
       "      <th>order_delivery</th>\n",
       "      <th>order_takeout</th>\n",
       "      <th>order_weekday</th>\n",
       "      <th>order_weekend</th>\n",
       "      <th>order_time_11</th>\n",
       "      <th>order_time_12</th>\n",
       "      <th>...</th>\n",
       "      <th>store_駒沢店</th>\n",
       "      <th>store_駒込店</th>\n",
       "      <th>store_高円寺店</th>\n",
       "      <th>store_高島平店</th>\n",
       "      <th>store_高崎店</th>\n",
       "      <th>store_高座店</th>\n",
       "      <th>store_高津店</th>\n",
       "      <th>store_高田馬場店</th>\n",
       "      <th>store_鴻巣店</th>\n",
       "      <th>store_鶴見店</th>\n",
       "    </tr>\n",
       "  </thead>\n",
       "  <tbody>\n",
       "    <tr>\n",
       "      <th>0</th>\n",
       "      <td>あきる野店</td>\n",
       "      <td>1186</td>\n",
       "      <td>958</td>\n",
       "      <td>228</td>\n",
       "      <td>858</td>\n",
       "      <td>328</td>\n",
       "      <td>839</td>\n",
       "      <td>347</td>\n",
       "      <td>104</td>\n",
       "      <td>107</td>\n",
       "      <td>...</td>\n",
       "      <td>0</td>\n",
       "      <td>0</td>\n",
       "      <td>0</td>\n",
       "      <td>0</td>\n",
       "      <td>0</td>\n",
       "      <td>0</td>\n",
       "      <td>0</td>\n",
       "      <td>0</td>\n",
       "      <td>0</td>\n",
       "      <td>0</td>\n",
       "    </tr>\n",
       "    <tr>\n",
       "      <th>1</th>\n",
       "      <td>さいたま南店</td>\n",
       "      <td>1553</td>\n",
       "      <td>1266</td>\n",
       "      <td>287</td>\n",
       "      <td>1145</td>\n",
       "      <td>408</td>\n",
       "      <td>1103</td>\n",
       "      <td>450</td>\n",
       "      <td>165</td>\n",
       "      <td>136</td>\n",
       "      <td>...</td>\n",
       "      <td>0</td>\n",
       "      <td>0</td>\n",
       "      <td>0</td>\n",
       "      <td>0</td>\n",
       "      <td>0</td>\n",
       "      <td>0</td>\n",
       "      <td>0</td>\n",
       "      <td>0</td>\n",
       "      <td>0</td>\n",
       "      <td>0</td>\n",
       "    </tr>\n",
       "    <tr>\n",
       "      <th>2</th>\n",
       "      <td>さいたま緑店</td>\n",
       "      <td>1063</td>\n",
       "      <td>875</td>\n",
       "      <td>188</td>\n",
       "      <td>807</td>\n",
       "      <td>256</td>\n",
       "      <td>754</td>\n",
       "      <td>309</td>\n",
       "      <td>113</td>\n",
       "      <td>82</td>\n",
       "      <td>...</td>\n",
       "      <td>0</td>\n",
       "      <td>0</td>\n",
       "      <td>0</td>\n",
       "      <td>0</td>\n",
       "      <td>0</td>\n",
       "      <td>0</td>\n",
       "      <td>0</td>\n",
       "      <td>0</td>\n",
       "      <td>0</td>\n",
       "      <td>0</td>\n",
       "    </tr>\n",
       "  </tbody>\n",
       "</table>\n",
       "<p>3 rows × 214 columns</p>\n",
       "</div>"
      ],
      "text/plain": [
       "  store_name  order  order_fin  order_cancel  order_delivery  order_takeout  \\\n",
       "0      あきる野店   1186        958           228             858            328   \n",
       "1     さいたま南店   1553       1266           287            1145            408   \n",
       "2     さいたま緑店   1063        875           188             807            256   \n",
       "\n",
       "   order_weekday  order_weekend  order_time_11  order_time_12  ...  store_駒沢店  \\\n",
       "0            839            347            104            107  ...          0   \n",
       "1           1103            450            165            136  ...          0   \n",
       "2            754            309            113             82  ...          0   \n",
       "\n",
       "   store_駒込店  store_高円寺店  store_高島平店  store_高崎店  store_高座店  store_高津店  \\\n",
       "0          0           0           0          0          0          0   \n",
       "1          0           0           0          0          0          0   \n",
       "2          0           0           0          0          0          0   \n",
       "\n",
       "   store_高田馬場店  store_鴻巣店  store_鶴見店  \n",
       "0            0          0          0  \n",
       "1            0          0          0  \n",
       "2            0          0          0  \n",
       "\n",
       "[3 rows x 214 columns]"
      ]
     },
     "execution_count": 6,
     "metadata": {},
     "output_type": "execute_result"
    }
   ],
   "source": [
    "category_data = pd.get_dummies(store_data['store_name'], prefix='store' ,prefix_sep='_')\n",
    "del category_data['store_麻生店']\n",
    "store_data = pd.concat([store_data, category_data],axis=1)\n",
    "store_data.head(3)"
   ]
  },
  {
   "cell_type": "markdown",
   "metadata": {},
   "source": [
    "### ノック７５：モデルに投入する直前の形式に整えよう"
   ]
  },
  {
   "cell_type": "code",
   "execution_count": 8,
   "metadata": {},
   "outputs": [],
   "source": [
    "X_cols_name = 'X_cols.csv'\n",
    "X_cols = pd.read_csv(os.path.join(model_dir, X_cols_name))\n",
    "X_cols = X_cols['X_cols']"
   ]
  },
  {
   "cell_type": "code",
   "execution_count": 9,
   "metadata": {},
   "outputs": [
    {
     "data": {
      "text/html": [
       "<div>\n",
       "<style scoped>\n",
       "    .dataframe tbody tr th:only-of-type {\n",
       "        vertical-align: middle;\n",
       "    }\n",
       "\n",
       "    .dataframe tbody tr th {\n",
       "        vertical-align: top;\n",
       "    }\n",
       "\n",
       "    .dataframe thead th {\n",
       "        text-align: right;\n",
       "    }\n",
       "</style>\n",
       "<table border=\"1\" class=\"dataframe\">\n",
       "  <thead>\n",
       "    <tr style=\"text-align: right;\">\n",
       "      <th></th>\n",
       "      <th>order</th>\n",
       "      <th>order_fin</th>\n",
       "      <th>order_cancel</th>\n",
       "      <th>order_delivery</th>\n",
       "      <th>order_takeout</th>\n",
       "      <th>order_weekday</th>\n",
       "      <th>order_weekend</th>\n",
       "      <th>order_time_11</th>\n",
       "      <th>order_time_12</th>\n",
       "      <th>order_time_13</th>\n",
       "      <th>...</th>\n",
       "      <th>store_駒沢店</th>\n",
       "      <th>store_駒込店</th>\n",
       "      <th>store_高円寺店</th>\n",
       "      <th>store_高島平店</th>\n",
       "      <th>store_高崎店</th>\n",
       "      <th>store_高座店</th>\n",
       "      <th>store_高津店</th>\n",
       "      <th>store_高田馬場店</th>\n",
       "      <th>store_鴻巣店</th>\n",
       "      <th>store_鶴見店</th>\n",
       "    </tr>\n",
       "  </thead>\n",
       "  <tbody>\n",
       "    <tr>\n",
       "      <th>0</th>\n",
       "      <td>1186</td>\n",
       "      <td>958</td>\n",
       "      <td>228</td>\n",
       "      <td>858</td>\n",
       "      <td>328</td>\n",
       "      <td>839</td>\n",
       "      <td>347</td>\n",
       "      <td>104</td>\n",
       "      <td>107</td>\n",
       "      <td>109</td>\n",
       "      <td>...</td>\n",
       "      <td>0</td>\n",
       "      <td>0</td>\n",
       "      <td>0</td>\n",
       "      <td>0</td>\n",
       "      <td>0</td>\n",
       "      <td>0</td>\n",
       "      <td>0</td>\n",
       "      <td>0</td>\n",
       "      <td>0</td>\n",
       "      <td>0</td>\n",
       "    </tr>\n",
       "    <tr>\n",
       "      <th>1</th>\n",
       "      <td>1553</td>\n",
       "      <td>1266</td>\n",
       "      <td>287</td>\n",
       "      <td>1145</td>\n",
       "      <td>408</td>\n",
       "      <td>1103</td>\n",
       "      <td>450</td>\n",
       "      <td>165</td>\n",
       "      <td>136</td>\n",
       "      <td>140</td>\n",
       "      <td>...</td>\n",
       "      <td>0</td>\n",
       "      <td>0</td>\n",
       "      <td>0</td>\n",
       "      <td>0</td>\n",
       "      <td>0</td>\n",
       "      <td>0</td>\n",
       "      <td>0</td>\n",
       "      <td>0</td>\n",
       "      <td>0</td>\n",
       "      <td>0</td>\n",
       "    </tr>\n",
       "    <tr>\n",
       "      <th>2</th>\n",
       "      <td>1063</td>\n",
       "      <td>875</td>\n",
       "      <td>188</td>\n",
       "      <td>807</td>\n",
       "      <td>256</td>\n",
       "      <td>754</td>\n",
       "      <td>309</td>\n",
       "      <td>113</td>\n",
       "      <td>82</td>\n",
       "      <td>79</td>\n",
       "      <td>...</td>\n",
       "      <td>0</td>\n",
       "      <td>0</td>\n",
       "      <td>0</td>\n",
       "      <td>0</td>\n",
       "      <td>0</td>\n",
       "      <td>0</td>\n",
       "      <td>0</td>\n",
       "      <td>0</td>\n",
       "      <td>0</td>\n",
       "      <td>0</td>\n",
       "    </tr>\n",
       "  </tbody>\n",
       "</table>\n",
       "<p>3 rows × 213 columns</p>\n",
       "</div>"
      ],
      "text/plain": [
       "   order  order_fin  order_cancel  order_delivery  order_takeout  \\\n",
       "0   1186        958           228             858            328   \n",
       "1   1553       1266           287            1145            408   \n",
       "2   1063        875           188             807            256   \n",
       "\n",
       "   order_weekday  order_weekend  order_time_11  order_time_12  order_time_13  \\\n",
       "0            839            347            104            107            109   \n",
       "1           1103            450            165            136            140   \n",
       "2            754            309            113             82             79   \n",
       "\n",
       "   ...  store_駒沢店  store_駒込店  store_高円寺店  store_高島平店  store_高崎店  store_高座店  \\\n",
       "0  ...          0          0           0           0          0          0   \n",
       "1  ...          0          0           0           0          0          0   \n",
       "2  ...          0          0           0           0          0          0   \n",
       "\n",
       "   store_高津店  store_高田馬場店  store_鴻巣店  store_鶴見店  \n",
       "0          0            0          0          0  \n",
       "1          0            0          0          0  \n",
       "2          0            0          0          0  \n",
       "\n",
       "[3 rows x 213 columns]"
      ]
     },
     "execution_count": 9,
     "metadata": {},
     "output_type": "execute_result"
    }
   ],
   "source": [
    "X = store_data[X_cols].copy()\n",
    "X.head(3)"
   ]
  },
  {
   "cell_type": "markdown",
   "metadata": {},
   "source": [
    "### ノック７６：モデルファイルを読み込んでみよう"
   ]
  },
  {
   "cell_type": "code",
   "execution_count": 10,
   "metadata": {},
   "outputs": [
    {
     "name": "stdout",
     "output_type": "stream",
     "text": [
      "GradientBoostingClassifier(random_state=0)\n",
      "GradientBoostingClassifier(random_state=0)\n"
     ]
    },
    {
     "name": "stderr",
     "output_type": "stream",
     "text": [
      "/usr/local/lib/python3.6/dist-packages/sklearn/base.py:315: UserWarning: Trying to unpickle estimator DummyClassifier from version 0.23.2 when using version 0.24.0. This might lead to breaking code or invalid results. Use at your own risk.\n",
      "  UserWarning)\n",
      "/usr/local/lib/python3.6/dist-packages/sklearn/base.py:315: UserWarning: Trying to unpickle estimator DecisionTreeRegressor from version 0.23.2 when using version 0.24.0. This might lead to breaking code or invalid results. Use at your own risk.\n",
      "  UserWarning)\n",
      "/usr/local/lib/python3.6/dist-packages/sklearn/base.py:315: UserWarning: Trying to unpickle estimator GradientBoostingClassifier from version 0.23.2 when using version 0.24.0. This might lead to breaking code or invalid results. Use at your own risk.\n",
      "  UserWarning)\n"
     ]
    }
   ],
   "source": [
    "import pickle\n",
    "model_weekday_name = 'model_y_weekday_GradientBoosting.pickle'\n",
    "model_weekend_name = 'model_y_weekend_GradientBoosting.pickle'\n",
    "\n",
    "model_weekday_path = os.path.join(model_dir, model_weekday_name)\n",
    "model_weekend_path = os.path.join(model_dir, model_weekend_name)\n",
    "\n",
    "with open(model_weekday_path, mode='rb') as f:\n",
    "    model_weekday = pickle.load(f)\n",
    "    \n",
    "with open(model_weekend_path, mode='rb') as f:\n",
    "    model_weekend = pickle.load(f)\n",
    "    \n",
    "print(model_weekday)\n",
    "print(model_weekend)"
   ]
  },
  {
   "cell_type": "markdown",
   "metadata": {},
   "source": [
    "### ノック７７：新規データの予測をしてみよう"
   ]
  },
  {
   "cell_type": "code",
   "execution_count": 11,
   "metadata": {},
   "outputs": [
    {
     "data": {
      "text/plain": [
       "array([0., 0., 0., 0., 0., 0., 0., 0., 1., 0.])"
      ]
     },
     "execution_count": 11,
     "metadata": {},
     "output_type": "execute_result"
    }
   ],
   "source": [
    "pred_weekday = model_weekday.predict(X)\n",
    "pred_weekend = model_weekend.predict(X)\n",
    "pred_weekend[:10]"
   ]
  },
  {
   "cell_type": "code",
   "execution_count": 12,
   "metadata": {},
   "outputs": [
    {
     "data": {
      "text/plain": [
       "array([[0.71866699, 0.28133301],\n",
       "       [0.61231504, 0.38768496],\n",
       "       [0.53604944, 0.46395056],\n",
       "       [0.77746324, 0.22253676],\n",
       "       [0.59048016, 0.40951984],\n",
       "       [0.80779612, 0.19220388],\n",
       "       [0.79061865, 0.20938135],\n",
       "       [0.70969261, 0.29030739],\n",
       "       [0.36925277, 0.63074723],\n",
       "       [0.84098724, 0.15901276]])"
      ]
     },
     "execution_count": 12,
     "metadata": {},
     "output_type": "execute_result"
    }
   ],
   "source": [
    "pred_proba_weekday = model_weekday.predict_proba(X)\n",
    "pred_proba_weekend = model_weekend.predict_proba(X)\n",
    "pred_proba_weekend[:10]"
   ]
  },
  {
   "cell_type": "code",
   "execution_count": 13,
   "metadata": {},
   "outputs": [
    {
     "data": {
      "text/plain": [
       "array([0.28133301, 0.38768496, 0.46395056, 0.22253676, 0.40951984,\n",
       "       0.19220388, 0.20938135, 0.29030739, 0.63074723, 0.15901276])"
      ]
     },
     "execution_count": 13,
     "metadata": {},
     "output_type": "execute_result"
    }
   ],
   "source": [
    "pred_proba_weekday = pred_proba_weekday[:,1]\n",
    "pred_proba_weekend = pred_proba_weekend[:,1]\n",
    "pred_proba_weekend[:10]"
   ]
  },
  {
   "cell_type": "code",
   "execution_count": 14,
   "metadata": {},
   "outputs": [
    {
     "data": {
      "text/html": [
       "<div>\n",
       "<style scoped>\n",
       "    .dataframe tbody tr th:only-of-type {\n",
       "        vertical-align: middle;\n",
       "    }\n",
       "\n",
       "    .dataframe tbody tr th {\n",
       "        vertical-align: top;\n",
       "    }\n",
       "\n",
       "    .dataframe thead th {\n",
       "        text-align: right;\n",
       "    }\n",
       "</style>\n",
       "<table border=\"1\" class=\"dataframe\">\n",
       "  <thead>\n",
       "    <tr style=\"text-align: right;\">\n",
       "      <th></th>\n",
       "      <th>pred_weekday</th>\n",
       "      <th>pred_weekend</th>\n",
       "      <th>score_weekday</th>\n",
       "      <th>score_weekend</th>\n",
       "      <th>store_name</th>\n",
       "      <th>year_month</th>\n",
       "    </tr>\n",
       "  </thead>\n",
       "  <tbody>\n",
       "    <tr>\n",
       "      <th>0</th>\n",
       "      <td>1.0</td>\n",
       "      <td>0.0</td>\n",
       "      <td>0.769104</td>\n",
       "      <td>0.281333</td>\n",
       "      <td>あきる野店</td>\n",
       "      <td>202003</td>\n",
       "    </tr>\n",
       "    <tr>\n",
       "      <th>1</th>\n",
       "      <td>1.0</td>\n",
       "      <td>0.0</td>\n",
       "      <td>0.677146</td>\n",
       "      <td>0.387685</td>\n",
       "      <td>さいたま南店</td>\n",
       "      <td>202003</td>\n",
       "    </tr>\n",
       "    <tr>\n",
       "      <th>2</th>\n",
       "      <td>1.0</td>\n",
       "      <td>0.0</td>\n",
       "      <td>0.842885</td>\n",
       "      <td>0.463951</td>\n",
       "      <td>さいたま緑店</td>\n",
       "      <td>202003</td>\n",
       "    </tr>\n",
       "  </tbody>\n",
       "</table>\n",
       "</div>"
      ],
      "text/plain": [
       "   pred_weekday  pred_weekend  score_weekday  score_weekend store_name  \\\n",
       "0           1.0           0.0       0.769104       0.281333      あきる野店   \n",
       "1           1.0           0.0       0.677146       0.387685     さいたま南店   \n",
       "2           1.0           0.0       0.842885       0.463951     さいたま緑店   \n",
       "\n",
       "  year_month  \n",
       "0     202003  \n",
       "1     202003  \n",
       "2     202003  "
      ]
     },
     "execution_count": 14,
     "metadata": {},
     "output_type": "execute_result"
    }
   ],
   "source": [
    "pred = pd.DataFrame({'pred_weekday':pred_weekday, 'pred_weekend':pred_weekend, \n",
    "                     'score_weekday':pred_proba_weekday, 'score_weekend':pred_proba_weekend})\n",
    "pred.loc[:,'store_name'] = store_data['store_name']\n",
    "pred.loc[:,'year_month'] = tg_ym\n",
    "pred.head(3)"
   ]
  },
  {
   "cell_type": "markdown",
   "metadata": {},
   "source": [
    "### ノック７８：予測結果のヒートマップを作成してみよう"
   ]
  },
  {
   "cell_type": "code",
   "execution_count": 15,
   "metadata": {
    "scrolled": true
   },
   "outputs": [
    {
     "data": {
      "text/html": [
       "<div>\n",
       "<style scoped>\n",
       "    .dataframe tbody tr th:only-of-type {\n",
       "        vertical-align: middle;\n",
       "    }\n",
       "\n",
       "    .dataframe tbody tr th {\n",
       "        vertical-align: top;\n",
       "    }\n",
       "\n",
       "    .dataframe thead th {\n",
       "        text-align: right;\n",
       "    }\n",
       "</style>\n",
       "<table border=\"1\" class=\"dataframe\">\n",
       "  <thead>\n",
       "    <tr style=\"text-align: right;\">\n",
       "      <th></th>\n",
       "      <th>score_weekday</th>\n",
       "      <th>score_weekend</th>\n",
       "    </tr>\n",
       "    <tr>\n",
       "      <th>store_name</th>\n",
       "      <th></th>\n",
       "      <th></th>\n",
       "    </tr>\n",
       "  </thead>\n",
       "  <tbody>\n",
       "    <tr>\n",
       "      <th>あきる野店</th>\n",
       "      <td>0.769104</td>\n",
       "      <td>0.281333</td>\n",
       "    </tr>\n",
       "    <tr>\n",
       "      <th>さいたま南店</th>\n",
       "      <td>0.677146</td>\n",
       "      <td>0.387685</td>\n",
       "    </tr>\n",
       "    <tr>\n",
       "      <th>さいたま緑店</th>\n",
       "      <td>0.842885</td>\n",
       "      <td>0.463951</td>\n",
       "    </tr>\n",
       "    <tr>\n",
       "      <th>さいたま西店</th>\n",
       "      <td>0.690989</td>\n",
       "      <td>0.222537</td>\n",
       "    </tr>\n",
       "    <tr>\n",
       "      <th>つくば店</th>\n",
       "      <td>0.718913</td>\n",
       "      <td>0.409520</td>\n",
       "    </tr>\n",
       "    <tr>\n",
       "      <th>...</th>\n",
       "      <td>...</td>\n",
       "      <td>...</td>\n",
       "    </tr>\n",
       "    <tr>\n",
       "      <th>高津店</th>\n",
       "      <td>0.859683</td>\n",
       "      <td>0.328371</td>\n",
       "    </tr>\n",
       "    <tr>\n",
       "      <th>高田馬場店</th>\n",
       "      <td>0.602432</td>\n",
       "      <td>0.518836</td>\n",
       "    </tr>\n",
       "    <tr>\n",
       "      <th>鴻巣店</th>\n",
       "      <td>0.748131</td>\n",
       "      <td>0.318636</td>\n",
       "    </tr>\n",
       "    <tr>\n",
       "      <th>鶴見店</th>\n",
       "      <td>0.853120</td>\n",
       "      <td>0.315576</td>\n",
       "    </tr>\n",
       "    <tr>\n",
       "      <th>麻生店</th>\n",
       "      <td>0.630034</td>\n",
       "      <td>0.371484</td>\n",
       "    </tr>\n",
       "  </tbody>\n",
       "</table>\n",
       "<p>195 rows × 2 columns</p>\n",
       "</div>"
      ],
      "text/plain": [
       "            score_weekday  score_weekend\n",
       "store_name                              \n",
       "あきる野店            0.769104       0.281333\n",
       "さいたま南店           0.677146       0.387685\n",
       "さいたま緑店           0.842885       0.463951\n",
       "さいたま西店           0.690989       0.222537\n",
       "つくば店             0.718913       0.409520\n",
       "...                   ...            ...\n",
       "高津店              0.859683       0.328371\n",
       "高田馬場店            0.602432       0.518836\n",
       "鴻巣店              0.748131       0.318636\n",
       "鶴見店              0.853120       0.315576\n",
       "麻生店              0.630034       0.371484\n",
       "\n",
       "[195 rows x 2 columns]"
      ]
     },
     "execution_count": 15,
     "metadata": {},
     "output_type": "execute_result"
    }
   ],
   "source": [
    "pred_viz = pred[['store_name','score_weekday','score_weekend']].copy()\n",
    "pred_viz.set_index('store_name', inplace=True)\n",
    "pred_viz"
   ]
  },
  {
   "cell_type": "code",
   "execution_count": 21,
   "metadata": {},
   "outputs": [
    {
     "data": {
      "text/plain": [
       "<matplotlib.axes._subplots.AxesSubplot at 0x7f8826ec6d68>"
      ]
     },
     "execution_count": 21,
     "metadata": {},
     "output_type": "execute_result"
    },
    {
     "data": {
      "image/png": "[encoded data removed]",
      "text/plain": [
       "<Figure size 432x288 with 2 Axes>"
      ]
     },
     "metadata": {
      "needs_background": "light"
     },
     "output_type": "display_data"
    }
   ],
   "source": [
    "import seaborn as sns\n",
    "import japanize_matplotlib\n",
    "japanize_matplotlib.japanize()\n",
    "sns.heatmap(pred_viz[:20].T)"
   ]
  },
  {
   "cell_type": "markdown",
   "metadata": {},
   "source": [
    "### ノック７９：実績データを作成しよう"
   ]
  },
  {
   "cell_type": "code",
   "execution_count": 17,
   "metadata": {},
   "outputs": [
    {
     "data": {
      "text/html": [
       "<div>\n",
       "<style scoped>\n",
       "    .dataframe tbody tr th:only-of-type {\n",
       "        vertical-align: middle;\n",
       "    }\n",
       "\n",
       "    .dataframe tbody tr th {\n",
       "        vertical-align: top;\n",
       "    }\n",
       "\n",
       "    .dataframe thead th {\n",
       "        text-align: right;\n",
       "    }\n",
       "</style>\n",
       "<table border=\"1\" class=\"dataframe\">\n",
       "  <thead>\n",
       "    <tr style=\"text-align: right;\">\n",
       "      <th></th>\n",
       "      <th>store_name</th>\n",
       "      <th>order_202003</th>\n",
       "      <th>order_fin_202003</th>\n",
       "      <th>order_cancel_202003</th>\n",
       "      <th>order_delivery_202003</th>\n",
       "      <th>order_takeout_202003</th>\n",
       "      <th>order_weekday_202003</th>\n",
       "      <th>order_weekend_202003</th>\n",
       "      <th>delta_avg_202003</th>\n",
       "    </tr>\n",
       "  </thead>\n",
       "  <tbody>\n",
       "    <tr>\n",
       "      <th>0</th>\n",
       "      <td>あきる野店</td>\n",
       "      <td>1186</td>\n",
       "      <td>958</td>\n",
       "      <td>228</td>\n",
       "      <td>858</td>\n",
       "      <td>328</td>\n",
       "      <td>839</td>\n",
       "      <td>347</td>\n",
       "      <td>35.204593</td>\n",
       "    </tr>\n",
       "    <tr>\n",
       "      <th>1</th>\n",
       "      <td>さいたま南店</td>\n",
       "      <td>1553</td>\n",
       "      <td>1266</td>\n",
       "      <td>287</td>\n",
       "      <td>1145</td>\n",
       "      <td>408</td>\n",
       "      <td>1103</td>\n",
       "      <td>450</td>\n",
       "      <td>35.259084</td>\n",
       "    </tr>\n",
       "    <tr>\n",
       "      <th>2</th>\n",
       "      <td>さいたま緑店</td>\n",
       "      <td>1063</td>\n",
       "      <td>875</td>\n",
       "      <td>188</td>\n",
       "      <td>807</td>\n",
       "      <td>256</td>\n",
       "      <td>754</td>\n",
       "      <td>309</td>\n",
       "      <td>35.268571</td>\n",
       "    </tr>\n",
       "  </tbody>\n",
       "</table>\n",
       "</div>"
      ],
      "text/plain": [
       "  store_name  order_202003  order_fin_202003  order_cancel_202003  \\\n",
       "0      あきる野店          1186               958                  228   \n",
       "1     さいたま南店          1553              1266                  287   \n",
       "2     さいたま緑店          1063               875                  188   \n",
       "\n",
       "   order_delivery_202003  order_takeout_202003  order_weekday_202003  \\\n",
       "0                    858                   328                   839   \n",
       "1                   1145                   408                  1103   \n",
       "2                    807                   256                   754   \n",
       "\n",
       "   order_weekend_202003  delta_avg_202003  \n",
       "0                   347         35.204593  \n",
       "1                   450         35.259084  \n",
       "2                   309         35.268571  "
      ]
     },
     "execution_count": 17,
     "metadata": {},
     "output_type": "execute_result"
    }
   ],
   "source": [
    "target_cols = ['store_name', 'order', 'order_fin', 'order_cancel', 'order_delivery',\n",
    "       'order_takeout', 'order_weekday', 'order_weekend', 'delta_avg']\n",
    "actual_data = actual_data[target_cols]\n",
    "actual_cols = ['store_name']\n",
    "rename_cols = [x + f'_{tg_ym}' for x in actual_data.columns if x != 'store_name']\n",
    "actual_cols.extend(rename_cols)\n",
    "actual_data.columns = actual_cols\n",
    "actual_data.head(3)"
   ]
  },
  {
   "cell_type": "markdown",
   "metadata": {},
   "source": [
    "### ノック８０：現場に向けたレポートを作成し出力しよう"
   ]
  },
  {
   "cell_type": "code",
   "execution_count": 18,
   "metadata": {},
   "outputs": [],
   "source": [
    "pred.loc[pred['score_weekday'] >= 0.75,'オーダー予測 平日'] = '増加大'\n",
    "pred.loc[(pred['score_weekday'] < 0.75)&(pred['score_weekday'] >= 0.5),'オーダー予測 平日'] = '増加'\n",
    "pred.loc[(pred['score_weekday'] < 0.5)&(pred['score_weekday'] >= 0.25),'オーダー予測 平日'] = '減少'\n",
    "pred.loc[pred['score_weekday'] < 0.25,'オーダー予測 平日'] = '減少大'\n",
    "\n",
    "pred.loc[pred['score_weekend'] >= 0.75,'オーダー予測 休日'] = '増加大'\n",
    "pred.loc[(pred['score_weekend'] < 0.75)&(pred['score_weekend'] >= 0.5),'オーダー予測 休日'] = '増加'\n",
    "pred.loc[(pred['score_weekend'] < 0.5)&(pred['score_weekend'] >= 0.25),'オーダー予測 休日'] = '減少'\n",
    "pred.loc[pred['score_weekend'] < 0.25,'オーダー予測 休日'] = '減少大'"
   ]
  },
  {
   "cell_type": "code",
   "execution_count": 19,
   "metadata": {},
   "outputs": [
    {
     "data": {
      "text/html": [
       "<div>\n",
       "<style scoped>\n",
       "    .dataframe tbody tr th:only-of-type {\n",
       "        vertical-align: middle;\n",
       "    }\n",
       "\n",
       "    .dataframe tbody tr th {\n",
       "        vertical-align: top;\n",
       "    }\n",
       "\n",
       "    .dataframe thead th {\n",
       "        text-align: right;\n",
       "    }\n",
       "</style>\n",
       "<table border=\"1\" class=\"dataframe\">\n",
       "  <thead>\n",
       "    <tr style=\"text-align: right;\">\n",
       "      <th></th>\n",
       "      <th>store_name</th>\n",
       "      <th>オーダー予測 平日</th>\n",
       "      <th>オーダー予測 休日</th>\n",
       "      <th>score_weekday</th>\n",
       "      <th>score_weekend</th>\n",
       "      <th>order_202003</th>\n",
       "      <th>order_fin_202003</th>\n",
       "      <th>order_cancel_202003</th>\n",
       "      <th>order_delivery_202003</th>\n",
       "      <th>order_takeout_202003</th>\n",
       "      <th>order_weekday_202003</th>\n",
       "      <th>order_weekend_202003</th>\n",
       "      <th>delta_avg_202003</th>\n",
       "    </tr>\n",
       "  </thead>\n",
       "  <tbody>\n",
       "    <tr>\n",
       "      <th>0</th>\n",
       "      <td>あきる野店</td>\n",
       "      <td>増加大</td>\n",
       "      <td>減少</td>\n",
       "      <td>0.769104</td>\n",
       "      <td>0.281333</td>\n",
       "      <td>1186</td>\n",
       "      <td>958</td>\n",
       "      <td>228</td>\n",
       "      <td>858</td>\n",
       "      <td>328</td>\n",
       "      <td>839</td>\n",
       "      <td>347</td>\n",
       "      <td>35.204593</td>\n",
       "    </tr>\n",
       "    <tr>\n",
       "      <th>1</th>\n",
       "      <td>さいたま南店</td>\n",
       "      <td>増加</td>\n",
       "      <td>減少</td>\n",
       "      <td>0.677146</td>\n",
       "      <td>0.387685</td>\n",
       "      <td>1553</td>\n",
       "      <td>1266</td>\n",
       "      <td>287</td>\n",
       "      <td>1145</td>\n",
       "      <td>408</td>\n",
       "      <td>1103</td>\n",
       "      <td>450</td>\n",
       "      <td>35.259084</td>\n",
       "    </tr>\n",
       "    <tr>\n",
       "      <th>2</th>\n",
       "      <td>さいたま緑店</td>\n",
       "      <td>増加大</td>\n",
       "      <td>減少</td>\n",
       "      <td>0.842885</td>\n",
       "      <td>0.463951</td>\n",
       "      <td>1063</td>\n",
       "      <td>875</td>\n",
       "      <td>188</td>\n",
       "      <td>807</td>\n",
       "      <td>256</td>\n",
       "      <td>754</td>\n",
       "      <td>309</td>\n",
       "      <td>35.268571</td>\n",
       "    </tr>\n",
       "  </tbody>\n",
       "</table>\n",
       "</div>"
      ],
      "text/plain": [
       "  store_name オーダー予測 平日 オーダー予測 休日  score_weekday  score_weekend  order_202003  \\\n",
       "0      あきる野店       増加大        減少       0.769104       0.281333          1186   \n",
       "1     さいたま南店        増加        減少       0.677146       0.387685          1553   \n",
       "2     さいたま緑店       増加大        減少       0.842885       0.463951          1063   \n",
       "\n",
       "   order_fin_202003  order_cancel_202003  order_delivery_202003  \\\n",
       "0               958                  228                    858   \n",
       "1              1266                  287                   1145   \n",
       "2               875                  188                    807   \n",
       "\n",
       "   order_takeout_202003  order_weekday_202003  order_weekend_202003  \\\n",
       "0                   328                   839                   347   \n",
       "1                   408                  1103                   450   \n",
       "2                   256                   754                   309   \n",
       "\n",
       "   delta_avg_202003  \n",
       "0         35.204593  \n",
       "1         35.259084  \n",
       "2         35.268571  "
      ]
     },
     "execution_count": 19,
     "metadata": {},
     "output_type": "execute_result"
    }
   ],
   "source": [
    "report = pred[['store_name','オーダー予測 平日','オーダー予測 休日', 'score_weekday', 'score_weekend']]\n",
    "report = pd.merge(report, actual_data , on='store_name', how='left')\n",
    "report.head(3)"
   ]
  }
 ],
 "metadata": {
  "kernelspec": {
   "display_name": "Python 3",
   "language": "python",
   "name": "python3"
  },
  "language_info": {
   "codemirror_mode": {
    "name": "ipython",
    "version": 3
   },
   "file_extension": ".py",
   "mimetype": "text/x-python",
   "name": "python",
   "nbconvert_exporter": "python",
   "pygments_lexer": "ipython3",
   "version": "3.6.9"
  }
 },
 "nbformat": 4,
 "nbformat_minor": 4
}
