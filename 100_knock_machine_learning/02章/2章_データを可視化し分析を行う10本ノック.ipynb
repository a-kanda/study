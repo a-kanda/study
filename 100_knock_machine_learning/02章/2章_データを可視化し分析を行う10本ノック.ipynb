{
 "cells": [
  {
   "cell_type": "code",
   "execution_count": null,
   "metadata": {},
   "outputs": [],
   "source": [
    "# Google Colaboratoryを使用する場合は、下記のコメントアウトを外し、実行してください"
   ]
  },
  {
   "cell_type": "code",
   "execution_count": null,
   "metadata": {},
   "outputs": [],
   "source": [
    "# # 下記セルを実行すると、authorization codeの入力を求められます。\n",
    "# # 出力されたリンク先をクリックし、Googleアカウントにログインし、\n",
    "# # authorization codeをコピーし、貼り付けをおこなってください。\n",
    "# import os\n",
    "# from google.colab import drive\n",
    "# drive.mount('/content/drive')"
   ]
  },
  {
   "cell_type": "code",
   "execution_count": null,
   "metadata": {},
   "outputs": [],
   "source": [
    "# working_dir = 'MLSys_100Knocks' #　※※自分で作成したフォルダパスが異なる場合こちらを変更してください。※※\n",
    "# path = f'/content/drive/MyDrive/{working_dir}/本章/2章'\n",
    "# os.chdir(path)\n",
    "# ! pip install japanize-matplotlib"
   ]
  },
  {
   "cell_type": "markdown",
   "metadata": {},
   "source": [
    "# ２章 データを可視化し分析を行う１０本ノック\n",
    "\n"
   ]
  },
  {
   "cell_type": "markdown",
   "metadata": {},
   "source": [
    "### ノック１１：データを読み込んで不要なものを除外しよう"
   ]
  },
  {
   "cell_type": "code",
   "execution_count": 1,
   "metadata": {},
   "outputs": [
    {
     "name": "stdout",
     "output_type": "stream",
     "text": [
      "703880\n"
     ]
    },
    {
     "data": {
      "text/html": [
       "<div>\n",
       "<style scoped>\n",
       "    .dataframe tbody tr th:only-of-type {\n",
       "        vertical-align: middle;\n",
       "    }\n",
       "\n",
       "    .dataframe tbody tr th {\n",
       "        vertical-align: top;\n",
       "    }\n",
       "\n",
       "    .dataframe thead th {\n",
       "        text-align: right;\n",
       "    }\n",
       "</style>\n",
       "<table border=\"1\" class=\"dataframe\">\n",
       "  <thead>\n",
       "    <tr style=\"text-align: right;\">\n",
       "      <th></th>\n",
       "      <th>order_id</th>\n",
       "      <th>store_id</th>\n",
       "      <th>customer_id</th>\n",
       "      <th>coupon_cd</th>\n",
       "      <th>sales_detail_id</th>\n",
       "      <th>order_accept_date</th>\n",
       "      <th>delivered_date</th>\n",
       "      <th>takeout_flag</th>\n",
       "      <th>total_amount</th>\n",
       "      <th>status</th>\n",
       "      <th>store_name</th>\n",
       "      <th>area_cd</th>\n",
       "      <th>wide_area</th>\n",
       "      <th>narrow_area</th>\n",
       "      <th>takeout_name</th>\n",
       "      <th>status_name</th>\n",
       "    </tr>\n",
       "  </thead>\n",
       "  <tbody>\n",
       "    <tr>\n",
       "      <th>0</th>\n",
       "      <td>79339111</td>\n",
       "      <td>49</td>\n",
       "      <td>C26387220</td>\n",
       "      <td>50</td>\n",
       "      <td>67393872</td>\n",
       "      <td>2020-04-01 11:00:00</td>\n",
       "      <td>2020-04-01 11:18:00</td>\n",
       "      <td>1</td>\n",
       "      <td>4144</td>\n",
       "      <td>1</td>\n",
       "      <td>浅草店</td>\n",
       "      <td>TK</td>\n",
       "      <td>東京</td>\n",
       "      <td>東京</td>\n",
       "      <td>お持ち帰り</td>\n",
       "      <td>お支払済</td>\n",
       "    </tr>\n",
       "    <tr>\n",
       "      <th>1</th>\n",
       "      <td>18941733</td>\n",
       "      <td>85</td>\n",
       "      <td>C48773811</td>\n",
       "      <td>26</td>\n",
       "      <td>91834983</td>\n",
       "      <td>2020-04-01 11:00:00</td>\n",
       "      <td>2020-04-01 11:22:00</td>\n",
       "      <td>0</td>\n",
       "      <td>2877</td>\n",
       "      <td>2</td>\n",
       "      <td>目黒店</td>\n",
       "      <td>TK</td>\n",
       "      <td>東京</td>\n",
       "      <td>東京</td>\n",
       "      <td>デリバリー</td>\n",
       "      <td>お渡し済</td>\n",
       "    </tr>\n",
       "    <tr>\n",
       "      <th>2</th>\n",
       "      <td>56217880</td>\n",
       "      <td>76</td>\n",
       "      <td>C66287421</td>\n",
       "      <td>36</td>\n",
       "      <td>64409634</td>\n",
       "      <td>2020-04-01 11:00:00</td>\n",
       "      <td>2020-04-01 11:15:00</td>\n",
       "      <td>0</td>\n",
       "      <td>2603</td>\n",
       "      <td>2</td>\n",
       "      <td>本郷店</td>\n",
       "      <td>TK</td>\n",
       "      <td>東京</td>\n",
       "      <td>東京</td>\n",
       "      <td>デリバリー</td>\n",
       "      <td>お渡し済</td>\n",
       "    </tr>\n",
       "    <tr>\n",
       "      <th>3</th>\n",
       "      <td>28447783</td>\n",
       "      <td>190</td>\n",
       "      <td>C41156423</td>\n",
       "      <td>19</td>\n",
       "      <td>73032165</td>\n",
       "      <td>2020-04-01 11:00:00</td>\n",
       "      <td>2020-04-01 11:16:00</td>\n",
       "      <td>0</td>\n",
       "      <td>2732</td>\n",
       "      <td>2</td>\n",
       "      <td>栃木店</td>\n",
       "      <td>TO</td>\n",
       "      <td>北関東</td>\n",
       "      <td>栃木</td>\n",
       "      <td>デリバリー</td>\n",
       "      <td>お渡し済</td>\n",
       "    </tr>\n",
       "    <tr>\n",
       "      <th>4</th>\n",
       "      <td>32576156</td>\n",
       "      <td>191</td>\n",
       "      <td>C54568117</td>\n",
       "      <td>71</td>\n",
       "      <td>23281182</td>\n",
       "      <td>2020-04-01 11:00:00</td>\n",
       "      <td>2020-04-01 11:53:00</td>\n",
       "      <td>0</td>\n",
       "      <td>2987</td>\n",
       "      <td>2</td>\n",
       "      <td>伊勢崎店</td>\n",
       "      <td>GU</td>\n",
       "      <td>北関東</td>\n",
       "      <td>群馬</td>\n",
       "      <td>デリバリー</td>\n",
       "      <td>お渡し済</td>\n",
       "    </tr>\n",
       "    <tr>\n",
       "      <th>...</th>\n",
       "      <td>...</td>\n",
       "      <td>...</td>\n",
       "      <td>...</td>\n",
       "      <td>...</td>\n",
       "      <td>...</td>\n",
       "      <td>...</td>\n",
       "      <td>...</td>\n",
       "      <td>...</td>\n",
       "      <td>...</td>\n",
       "      <td>...</td>\n",
       "      <td>...</td>\n",
       "      <td>...</td>\n",
       "      <td>...</td>\n",
       "      <td>...</td>\n",
       "      <td>...</td>\n",
       "      <td>...</td>\n",
       "    </tr>\n",
       "    <tr>\n",
       "      <th>703875</th>\n",
       "      <td>90872494</td>\n",
       "      <td>191</td>\n",
       "      <td>C35992970</td>\n",
       "      <td>46</td>\n",
       "      <td>51884378</td>\n",
       "      <td>2020-06-30 21:58:58</td>\n",
       "      <td>2020-06-30 22:43:58</td>\n",
       "      <td>1</td>\n",
       "      <td>2112</td>\n",
       "      <td>1</td>\n",
       "      <td>伊勢崎店</td>\n",
       "      <td>GU</td>\n",
       "      <td>北関東</td>\n",
       "      <td>群馬</td>\n",
       "      <td>お持ち帰り</td>\n",
       "      <td>お支払済</td>\n",
       "    </tr>\n",
       "    <tr>\n",
       "      <th>703876</th>\n",
       "      <td>30167637</td>\n",
       "      <td>35</td>\n",
       "      <td>C53126526</td>\n",
       "      <td>88</td>\n",
       "      <td>6295273</td>\n",
       "      <td>2020-06-30 21:58:58</td>\n",
       "      <td>2020-06-30 22:36:58</td>\n",
       "      <td>0</td>\n",
       "      <td>4462</td>\n",
       "      <td>2</td>\n",
       "      <td>代々木店</td>\n",
       "      <td>TK</td>\n",
       "      <td>東京</td>\n",
       "      <td>東京</td>\n",
       "      <td>デリバリー</td>\n",
       "      <td>お渡し済</td>\n",
       "    </tr>\n",
       "    <tr>\n",
       "      <th>703877</th>\n",
       "      <td>85345862</td>\n",
       "      <td>118</td>\n",
       "      <td>C25099070</td>\n",
       "      <td>32</td>\n",
       "      <td>15733308</td>\n",
       "      <td>2020-06-30 21:58:58</td>\n",
       "      <td>2020-06-30 22:42:58</td>\n",
       "      <td>0</td>\n",
       "      <td>3865</td>\n",
       "      <td>2</td>\n",
       "      <td>磯子店</td>\n",
       "      <td>KN</td>\n",
       "      <td>神奈川</td>\n",
       "      <td>神奈川</td>\n",
       "      <td>デリバリー</td>\n",
       "      <td>お渡し済</td>\n",
       "    </tr>\n",
       "    <tr>\n",
       "      <th>703878</th>\n",
       "      <td>73038887</td>\n",
       "      <td>100</td>\n",
       "      <td>C27421314</td>\n",
       "      <td>84</td>\n",
       "      <td>67608099</td>\n",
       "      <td>2020-06-30 21:58:58</td>\n",
       "      <td>2020-06-30 22:21:58</td>\n",
       "      <td>0</td>\n",
       "      <td>3319</td>\n",
       "      <td>2</td>\n",
       "      <td>中原店</td>\n",
       "      <td>KN</td>\n",
       "      <td>神奈川</td>\n",
       "      <td>神奈川</td>\n",
       "      <td>デリバリー</td>\n",
       "      <td>お渡し済</td>\n",
       "    </tr>\n",
       "    <tr>\n",
       "      <th>703879</th>\n",
       "      <td>14799648</td>\n",
       "      <td>39</td>\n",
       "      <td>C90614204</td>\n",
       "      <td>5</td>\n",
       "      <td>13300147</td>\n",
       "      <td>2020-06-30 21:58:58</td>\n",
       "      <td>2020-06-30 22:38:58</td>\n",
       "      <td>0</td>\n",
       "      <td>2064</td>\n",
       "      <td>2</td>\n",
       "      <td>杉並店</td>\n",
       "      <td>TK</td>\n",
       "      <td>東京</td>\n",
       "      <td>東京</td>\n",
       "      <td>デリバリー</td>\n",
       "      <td>お渡し済</td>\n",
       "    </tr>\n",
       "  </tbody>\n",
       "</table>\n",
       "<p>703880 rows × 16 columns</p>\n",
       "</div>"
      ],
      "text/plain": [
       "        order_id  store_id customer_id  coupon_cd  sales_detail_id  \\\n",
       "0       79339111        49   C26387220         50         67393872   \n",
       "1       18941733        85   C48773811         26         91834983   \n",
       "2       56217880        76   C66287421         36         64409634   \n",
       "3       28447783       190   C41156423         19         73032165   \n",
       "4       32576156       191   C54568117         71         23281182   \n",
       "...          ...       ...         ...        ...              ...   \n",
       "703875  90872494       191   C35992970         46         51884378   \n",
       "703876  30167637        35   C53126526         88          6295273   \n",
       "703877  85345862       118   C25099070         32         15733308   \n",
       "703878  73038887       100   C27421314         84         67608099   \n",
       "703879  14799648        39   C90614204          5         13300147   \n",
       "\n",
       "          order_accept_date       delivered_date  takeout_flag  total_amount  \\\n",
       "0       2020-04-01 11:00:00  2020-04-01 11:18:00             1          4144   \n",
       "1       2020-04-01 11:00:00  2020-04-01 11:22:00             0          2877   \n",
       "2       2020-04-01 11:00:00  2020-04-01 11:15:00             0          2603   \n",
       "3       2020-04-01 11:00:00  2020-04-01 11:16:00             0          2732   \n",
       "4       2020-04-01 11:00:00  2020-04-01 11:53:00             0          2987   \n",
       "...                     ...                  ...           ...           ...   \n",
       "703875  2020-06-30 21:58:58  2020-06-30 22:43:58             1          2112   \n",
       "703876  2020-06-30 21:58:58  2020-06-30 22:36:58             0          4462   \n",
       "703877  2020-06-30 21:58:58  2020-06-30 22:42:58             0          3865   \n",
       "703878  2020-06-30 21:58:58  2020-06-30 22:21:58             0          3319   \n",
       "703879  2020-06-30 21:58:58  2020-06-30 22:38:58             0          2064   \n",
       "\n",
       "        status store_name area_cd wide_area narrow_area takeout_name  \\\n",
       "0            1        浅草店      TK        東京          東京        お持ち帰り   \n",
       "1            2        目黒店      TK        東京          東京        デリバリー   \n",
       "2            2        本郷店      TK        東京          東京        デリバリー   \n",
       "3            2        栃木店      TO       北関東          栃木        デリバリー   \n",
       "4            2       伊勢崎店      GU       北関東          群馬        デリバリー   \n",
       "...        ...        ...     ...       ...         ...          ...   \n",
       "703875       1       伊勢崎店      GU       北関東          群馬        お持ち帰り   \n",
       "703876       2       代々木店      TK        東京          東京        デリバリー   \n",
       "703877       2        磯子店      KN       神奈川         神奈川        デリバリー   \n",
       "703878       2        中原店      KN       神奈川         神奈川        デリバリー   \n",
       "703879       2        杉並店      TK        東京          東京        デリバリー   \n",
       "\n",
       "       status_name  \n",
       "0             お支払済  \n",
       "1             お渡し済  \n",
       "2             お渡し済  \n",
       "3             お渡し済  \n",
       "4             お渡し済  \n",
       "...            ...  \n",
       "703875        お支払済  \n",
       "703876        お渡し済  \n",
       "703877        お渡し済  \n",
       "703878        お渡し済  \n",
       "703879        お渡し済  \n",
       "\n",
       "[703880 rows x 16 columns]"
      ]
     },
     "execution_count": 1,
     "metadata": {},
     "output_type": "execute_result"
    }
   ],
   "source": [
    "%config IPCompleter.greedy=True\n",
    "import pandas as pd\n",
    "order_data = pd.read_csv(\"order_data.csv\")\n",
    "print(len(order_data))\n",
    "order_data"
   ]
  },
  {
   "cell_type": "code",
   "execution_count": 2,
   "metadata": {},
   "outputs": [
    {
     "name": "stdout",
     "output_type": "stream",
     "text": [
      "574436\n"
     ]
    },
    {
     "data": {
      "text/plain": [
       "Index(['order_id', 'store_id', 'customer_id', 'coupon_cd', 'sales_detail_id',\n",
       "       'order_accept_date', 'delivered_date', 'takeout_flag', 'total_amount',\n",
       "       'status', 'store_name', 'area_cd', 'wide_area', 'narrow_area',\n",
       "       'takeout_name', 'status_name'],\n",
       "      dtype='object')"
      ]
     },
     "execution_count": 2,
     "metadata": {},
     "output_type": "execute_result"
    }
   ],
   "source": [
    "order_data = order_data.loc[(order_data['status'] == 1)|(order_data['status'] == 2)]\n",
    "print(len(order_data))\n",
    "order_data.columns"
   ]
  },
  {
   "cell_type": "code",
   "execution_count": 3,
   "metadata": {},
   "outputs": [
    {
     "name": "stdout",
     "output_type": "stream",
     "text": [
      "(574436, 11)\n"
     ]
    },
    {
     "data": {
      "text/html": [
       "<div>\n",
       "<style scoped>\n",
       "    .dataframe tbody tr th:only-of-type {\n",
       "        vertical-align: middle;\n",
       "    }\n",
       "\n",
       "    .dataframe tbody tr th {\n",
       "        vertical-align: top;\n",
       "    }\n",
       "\n",
       "    .dataframe thead th {\n",
       "        text-align: right;\n",
       "    }\n",
       "</style>\n",
       "<table border=\"1\" class=\"dataframe\">\n",
       "  <thead>\n",
       "    <tr style=\"text-align: right;\">\n",
       "      <th></th>\n",
       "      <th>store_id</th>\n",
       "      <th>customer_id</th>\n",
       "      <th>coupon_cd</th>\n",
       "      <th>order_accept_date</th>\n",
       "      <th>delivered_date</th>\n",
       "      <th>total_amount</th>\n",
       "      <th>store_name</th>\n",
       "      <th>wide_area</th>\n",
       "      <th>narrow_area</th>\n",
       "      <th>takeout_name</th>\n",
       "      <th>status_name</th>\n",
       "    </tr>\n",
       "  </thead>\n",
       "  <tbody>\n",
       "    <tr>\n",
       "      <th>0</th>\n",
       "      <td>49</td>\n",
       "      <td>C26387220</td>\n",
       "      <td>50</td>\n",
       "      <td>2020-04-01 11:00:00</td>\n",
       "      <td>2020-04-01 11:18:00</td>\n",
       "      <td>4144</td>\n",
       "      <td>浅草店</td>\n",
       "      <td>東京</td>\n",
       "      <td>東京</td>\n",
       "      <td>お持ち帰り</td>\n",
       "      <td>お支払済</td>\n",
       "    </tr>\n",
       "    <tr>\n",
       "      <th>1</th>\n",
       "      <td>85</td>\n",
       "      <td>C48773811</td>\n",
       "      <td>26</td>\n",
       "      <td>2020-04-01 11:00:00</td>\n",
       "      <td>2020-04-01 11:22:00</td>\n",
       "      <td>2877</td>\n",
       "      <td>目黒店</td>\n",
       "      <td>東京</td>\n",
       "      <td>東京</td>\n",
       "      <td>デリバリー</td>\n",
       "      <td>お渡し済</td>\n",
       "    </tr>\n",
       "    <tr>\n",
       "      <th>2</th>\n",
       "      <td>76</td>\n",
       "      <td>C66287421</td>\n",
       "      <td>36</td>\n",
       "      <td>2020-04-01 11:00:00</td>\n",
       "      <td>2020-04-01 11:15:00</td>\n",
       "      <td>2603</td>\n",
       "      <td>本郷店</td>\n",
       "      <td>東京</td>\n",
       "      <td>東京</td>\n",
       "      <td>デリバリー</td>\n",
       "      <td>お渡し済</td>\n",
       "    </tr>\n",
       "    <tr>\n",
       "      <th>3</th>\n",
       "      <td>190</td>\n",
       "      <td>C41156423</td>\n",
       "      <td>19</td>\n",
       "      <td>2020-04-01 11:00:00</td>\n",
       "      <td>2020-04-01 11:16:00</td>\n",
       "      <td>2732</td>\n",
       "      <td>栃木店</td>\n",
       "      <td>北関東</td>\n",
       "      <td>栃木</td>\n",
       "      <td>デリバリー</td>\n",
       "      <td>お渡し済</td>\n",
       "    </tr>\n",
       "    <tr>\n",
       "      <th>4</th>\n",
       "      <td>191</td>\n",
       "      <td>C54568117</td>\n",
       "      <td>71</td>\n",
       "      <td>2020-04-01 11:00:00</td>\n",
       "      <td>2020-04-01 11:53:00</td>\n",
       "      <td>2987</td>\n",
       "      <td>伊勢崎店</td>\n",
       "      <td>北関東</td>\n",
       "      <td>群馬</td>\n",
       "      <td>デリバリー</td>\n",
       "      <td>お渡し済</td>\n",
       "    </tr>\n",
       "  </tbody>\n",
       "</table>\n",
       "</div>"
      ],
      "text/plain": [
       "   store_id customer_id  coupon_cd    order_accept_date       delivered_date  \\\n",
       "0        49   C26387220         50  2020-04-01 11:00:00  2020-04-01 11:18:00   \n",
       "1        85   C48773811         26  2020-04-01 11:00:00  2020-04-01 11:22:00   \n",
       "2        76   C66287421         36  2020-04-01 11:00:00  2020-04-01 11:15:00   \n",
       "3       190   C41156423         19  2020-04-01 11:00:00  2020-04-01 11:16:00   \n",
       "4       191   C54568117         71  2020-04-01 11:00:00  2020-04-01 11:53:00   \n",
       "\n",
       "   total_amount store_name wide_area narrow_area takeout_name status_name  \n",
       "0          4144        浅草店        東京          東京        お持ち帰り        お支払済  \n",
       "1          2877        目黒店        東京          東京        デリバリー        お渡し済  \n",
       "2          2603        本郷店        東京          東京        デリバリー        お渡し済  \n",
       "3          2732        栃木店       北関東          栃木        デリバリー        お渡し済  \n",
       "4          2987       伊勢崎店       北関東          群馬        デリバリー        お渡し済  "
      ]
     },
     "execution_count": 3,
     "metadata": {},
     "output_type": "execute_result"
    }
   ],
   "source": [
    "analyze_data = order_data[['store_id', 'customer_id', 'coupon_cd', \n",
    "       'order_accept_date', 'delivered_date', 'total_amount',\n",
    "       'store_name', 'wide_area', 'narrow_area',\n",
    "       'takeout_name', 'status_name']]\n",
    "print(analyze_data.shape)\n",
    "analyze_data.head()"
   ]
  },
  {
   "cell_type": "markdown",
   "metadata": {},
   "source": [
    "### ノック１２：データの全体像を把握しよう"
   ]
  },
  {
   "cell_type": "code",
   "execution_count": 4,
   "metadata": {},
   "outputs": [
    {
     "data": {
      "text/html": [
       "<div>\n",
       "<style scoped>\n",
       "    .dataframe tbody tr th:only-of-type {\n",
       "        vertical-align: middle;\n",
       "    }\n",
       "\n",
       "    .dataframe tbody tr th {\n",
       "        vertical-align: top;\n",
       "    }\n",
       "\n",
       "    .dataframe thead th {\n",
       "        text-align: right;\n",
       "    }\n",
       "</style>\n",
       "<table border=\"1\" class=\"dataframe\">\n",
       "  <thead>\n",
       "    <tr style=\"text-align: right;\">\n",
       "      <th></th>\n",
       "      <th>store_id</th>\n",
       "      <th>coupon_cd</th>\n",
       "      <th>total_amount</th>\n",
       "    </tr>\n",
       "  </thead>\n",
       "  <tbody>\n",
       "    <tr>\n",
       "      <th>count</th>\n",
       "      <td>574436.000000</td>\n",
       "      <td>574436.000000</td>\n",
       "      <td>574436.000000</td>\n",
       "    </tr>\n",
       "    <tr>\n",
       "      <th>mean</th>\n",
       "      <td>99.113844</td>\n",
       "      <td>49.478758</td>\n",
       "      <td>2960.087555</td>\n",
       "    </tr>\n",
       "    <tr>\n",
       "      <th>std</th>\n",
       "      <td>55.913615</td>\n",
       "      <td>28.888993</td>\n",
       "      <td>954.282731</td>\n",
       "    </tr>\n",
       "    <tr>\n",
       "      <th>min</th>\n",
       "      <td>1.000000</td>\n",
       "      <td>0.000000</td>\n",
       "      <td>698.000000</td>\n",
       "    </tr>\n",
       "    <tr>\n",
       "      <th>25%</th>\n",
       "      <td>51.000000</td>\n",
       "      <td>24.000000</td>\n",
       "      <td>2308.000000</td>\n",
       "    </tr>\n",
       "    <tr>\n",
       "      <th>50%</th>\n",
       "      <td>99.000000</td>\n",
       "      <td>49.000000</td>\n",
       "      <td>2808.000000</td>\n",
       "    </tr>\n",
       "    <tr>\n",
       "      <th>75%</th>\n",
       "      <td>147.000000</td>\n",
       "      <td>75.000000</td>\n",
       "      <td>3617.000000</td>\n",
       "    </tr>\n",
       "    <tr>\n",
       "      <th>max</th>\n",
       "      <td>196.000000</td>\n",
       "      <td>99.000000</td>\n",
       "      <td>5100.000000</td>\n",
       "    </tr>\n",
       "  </tbody>\n",
       "</table>\n",
       "</div>"
      ],
      "text/plain": [
       "            store_id      coupon_cd   total_amount\n",
       "count  574436.000000  574436.000000  574436.000000\n",
       "mean       99.113844      49.478758    2960.087555\n",
       "std        55.913615      28.888993     954.282731\n",
       "min         1.000000       0.000000     698.000000\n",
       "25%        51.000000      24.000000    2308.000000\n",
       "50%        99.000000      49.000000    2808.000000\n",
       "75%       147.000000      75.000000    3617.000000\n",
       "max       196.000000      99.000000    5100.000000"
      ]
     },
     "execution_count": 4,
     "metadata": {},
     "output_type": "execute_result"
    }
   ],
   "source": [
    "analyze_data.describe()"
   ]
  },
  {
   "cell_type": "code",
   "execution_count": 5,
   "metadata": {},
   "outputs": [
    {
     "data": {
      "text/plain": [
       "store_id              int64\n",
       "customer_id          object\n",
       "coupon_cd             int64\n",
       "order_accept_date    object\n",
       "delivered_date       object\n",
       "total_amount          int64\n",
       "store_name           object\n",
       "wide_area            object\n",
       "narrow_area          object\n",
       "takeout_name         object\n",
       "status_name          object\n",
       "dtype: object"
      ]
     },
     "execution_count": 5,
     "metadata": {},
     "output_type": "execute_result"
    }
   ],
   "source": [
    "analyze_data.dtypes"
   ]
  },
  {
   "cell_type": "code",
   "execution_count": 6,
   "metadata": {},
   "outputs": [
    {
     "name": "stderr",
     "output_type": "stream",
     "text": [
      "/usr/local/lib/python3.6/dist-packages/pandas/core/frame.py:3069: SettingWithCopyWarning: \n",
      "A value is trying to be set on a copy of a slice from a DataFrame.\n",
      "Try using .loc[row_indexer,col_indexer] = value instead\n",
      "\n",
      "See the caveats in the documentation: https://pandas.pydata.org/pandas-docs/stable/user_guide/indexing.html#returning-a-view-versus-a-copy\n",
      "  self[k1] = value[k2]\n"
     ]
    },
    {
     "data": {
      "text/plain": [
       "store_id             object\n",
       "customer_id          object\n",
       "coupon_cd            object\n",
       "order_accept_date    object\n",
       "delivered_date       object\n",
       "total_amount          int64\n",
       "store_name           object\n",
       "wide_area            object\n",
       "narrow_area          object\n",
       "takeout_name         object\n",
       "status_name          object\n",
       "dtype: object"
      ]
     },
     "execution_count": 6,
     "metadata": {},
     "output_type": "execute_result"
    }
   ],
   "source": [
    "analyze_data[['store_id', 'coupon_cd']] = analyze_data[['store_id', 'coupon_cd']].astype(str)\n",
    "analyze_data.dtypes"
   ]
  },
  {
   "cell_type": "code",
   "execution_count": 7,
   "metadata": {},
   "outputs": [],
   "source": [
    "import warnings\n",
    "warnings.filterwarnings('ignore')"
   ]
  },
  {
   "cell_type": "code",
   "execution_count": 8,
   "metadata": {},
   "outputs": [
    {
     "data": {
      "text/html": [
       "<div>\n",
       "<style scoped>\n",
       "    .dataframe tbody tr th:only-of-type {\n",
       "        vertical-align: middle;\n",
       "    }\n",
       "\n",
       "    .dataframe tbody tr th {\n",
       "        vertical-align: top;\n",
       "    }\n",
       "\n",
       "    .dataframe thead th {\n",
       "        text-align: right;\n",
       "    }\n",
       "</style>\n",
       "<table border=\"1\" class=\"dataframe\">\n",
       "  <thead>\n",
       "    <tr style=\"text-align: right;\">\n",
       "      <th></th>\n",
       "      <th>total_amount</th>\n",
       "    </tr>\n",
       "  </thead>\n",
       "  <tbody>\n",
       "    <tr>\n",
       "      <th>count</th>\n",
       "      <td>574436.000000</td>\n",
       "    </tr>\n",
       "    <tr>\n",
       "      <th>mean</th>\n",
       "      <td>2960.087555</td>\n",
       "    </tr>\n",
       "    <tr>\n",
       "      <th>std</th>\n",
       "      <td>954.282731</td>\n",
       "    </tr>\n",
       "    <tr>\n",
       "      <th>min</th>\n",
       "      <td>698.000000</td>\n",
       "    </tr>\n",
       "    <tr>\n",
       "      <th>25%</th>\n",
       "      <td>2308.000000</td>\n",
       "    </tr>\n",
       "    <tr>\n",
       "      <th>50%</th>\n",
       "      <td>2808.000000</td>\n",
       "    </tr>\n",
       "    <tr>\n",
       "      <th>75%</th>\n",
       "      <td>3617.000000</td>\n",
       "    </tr>\n",
       "    <tr>\n",
       "      <th>max</th>\n",
       "      <td>5100.000000</td>\n",
       "    </tr>\n",
       "  </tbody>\n",
       "</table>\n",
       "</div>"
      ],
      "text/plain": [
       "        total_amount\n",
       "count  574436.000000\n",
       "mean     2960.087555\n",
       "std       954.282731\n",
       "min       698.000000\n",
       "25%      2308.000000\n",
       "50%      2808.000000\n",
       "75%      3617.000000\n",
       "max      5100.000000"
      ]
     },
     "execution_count": 8,
     "metadata": {},
     "output_type": "execute_result"
    }
   ],
   "source": [
    "analyze_data.describe()"
   ]
  },
  {
   "cell_type": "markdown",
   "metadata": {},
   "source": [
    "### ノック１３：月別の売上を集計してみよう"
   ]
  },
  {
   "cell_type": "code",
   "execution_count": 9,
   "metadata": {},
   "outputs": [
    {
     "data": {
      "text/html": [
       "<div>\n",
       "<style scoped>\n",
       "    .dataframe tbody tr th:only-of-type {\n",
       "        vertical-align: middle;\n",
       "    }\n",
       "\n",
       "    .dataframe tbody tr th {\n",
       "        vertical-align: top;\n",
       "    }\n",
       "\n",
       "    .dataframe thead th {\n",
       "        text-align: right;\n",
       "    }\n",
       "</style>\n",
       "<table border=\"1\" class=\"dataframe\">\n",
       "  <thead>\n",
       "    <tr style=\"text-align: right;\">\n",
       "      <th></th>\n",
       "      <th>order_accept_date</th>\n",
       "      <th>order_accept_month</th>\n",
       "    </tr>\n",
       "  </thead>\n",
       "  <tbody>\n",
       "    <tr>\n",
       "      <th>0</th>\n",
       "      <td>2020-04-01 11:00:00</td>\n",
       "      <td>202004</td>\n",
       "    </tr>\n",
       "    <tr>\n",
       "      <th>1</th>\n",
       "      <td>2020-04-01 11:00:00</td>\n",
       "      <td>202004</td>\n",
       "    </tr>\n",
       "    <tr>\n",
       "      <th>2</th>\n",
       "      <td>2020-04-01 11:00:00</td>\n",
       "      <td>202004</td>\n",
       "    </tr>\n",
       "    <tr>\n",
       "      <th>3</th>\n",
       "      <td>2020-04-01 11:00:00</td>\n",
       "      <td>202004</td>\n",
       "    </tr>\n",
       "    <tr>\n",
       "      <th>4</th>\n",
       "      <td>2020-04-01 11:00:00</td>\n",
       "      <td>202004</td>\n",
       "    </tr>\n",
       "  </tbody>\n",
       "</table>\n",
       "</div>"
      ],
      "text/plain": [
       "    order_accept_date order_accept_month\n",
       "0 2020-04-01 11:00:00             202004\n",
       "1 2020-04-01 11:00:00             202004\n",
       "2 2020-04-01 11:00:00             202004\n",
       "3 2020-04-01 11:00:00             202004\n",
       "4 2020-04-01 11:00:00             202004"
      ]
     },
     "execution_count": 9,
     "metadata": {},
     "output_type": "execute_result"
    }
   ],
   "source": [
    "analyze_data['order_accept_date'] = pd.to_datetime(analyze_data['order_accept_date'])\n",
    "analyze_data['order_accept_month'] = analyze_data['order_accept_date'].dt.strftime('%Y%m')\n",
    "analyze_data[['order_accept_date', 'order_accept_month']].head()"
   ]
  },
  {
   "cell_type": "code",
   "execution_count": 10,
   "metadata": {},
   "outputs": [
    {
     "data": {
      "text/html": [
       "<div>\n",
       "<style scoped>\n",
       "    .dataframe tbody tr th:only-of-type {\n",
       "        vertical-align: middle;\n",
       "    }\n",
       "\n",
       "    .dataframe tbody tr th {\n",
       "        vertical-align: top;\n",
       "    }\n",
       "\n",
       "    .dataframe thead th {\n",
       "        text-align: right;\n",
       "    }\n",
       "</style>\n",
       "<table border=\"1\" class=\"dataframe\">\n",
       "  <thead>\n",
       "    <tr style=\"text-align: right;\">\n",
       "      <th></th>\n",
       "      <th>delivered_date</th>\n",
       "      <th>delivered_month</th>\n",
       "    </tr>\n",
       "  </thead>\n",
       "  <tbody>\n",
       "    <tr>\n",
       "      <th>0</th>\n",
       "      <td>2020-04-01 11:18:00</td>\n",
       "      <td>202004</td>\n",
       "    </tr>\n",
       "    <tr>\n",
       "      <th>1</th>\n",
       "      <td>2020-04-01 11:22:00</td>\n",
       "      <td>202004</td>\n",
       "    </tr>\n",
       "    <tr>\n",
       "      <th>2</th>\n",
       "      <td>2020-04-01 11:15:00</td>\n",
       "      <td>202004</td>\n",
       "    </tr>\n",
       "    <tr>\n",
       "      <th>3</th>\n",
       "      <td>2020-04-01 11:16:00</td>\n",
       "      <td>202004</td>\n",
       "    </tr>\n",
       "    <tr>\n",
       "      <th>4</th>\n",
       "      <td>2020-04-01 11:53:00</td>\n",
       "      <td>202004</td>\n",
       "    </tr>\n",
       "  </tbody>\n",
       "</table>\n",
       "</div>"
      ],
      "text/plain": [
       "       delivered_date delivered_month\n",
       "0 2020-04-01 11:18:00          202004\n",
       "1 2020-04-01 11:22:00          202004\n",
       "2 2020-04-01 11:15:00          202004\n",
       "3 2020-04-01 11:16:00          202004\n",
       "4 2020-04-01 11:53:00          202004"
      ]
     },
     "execution_count": 10,
     "metadata": {},
     "output_type": "execute_result"
    }
   ],
   "source": [
    "analyze_data['delivered_date'] = pd.to_datetime(analyze_data['delivered_date'])\n",
    "analyze_data['delivered_month'] = analyze_data['delivered_date'].dt.strftime('%Y%m')\n",
    "analyze_data[['delivered_date', 'delivered_month']].head()"
   ]
  },
  {
   "cell_type": "code",
   "execution_count": 11,
   "metadata": {},
   "outputs": [
    {
     "data": {
      "text/plain": [
       "store_id                      object\n",
       "customer_id                   object\n",
       "coupon_cd                     object\n",
       "order_accept_date     datetime64[ns]\n",
       "delivered_date        datetime64[ns]\n",
       "total_amount                   int64\n",
       "store_name                    object\n",
       "wide_area                     object\n",
       "narrow_area                   object\n",
       "takeout_name                  object\n",
       "status_name                   object\n",
       "order_accept_month            object\n",
       "delivered_month               object\n",
       "dtype: object"
      ]
     },
     "execution_count": 11,
     "metadata": {},
     "output_type": "execute_result"
    }
   ],
   "source": [
    "analyze_data.dtypes"
   ]
  },
  {
   "cell_type": "code",
   "execution_count": 12,
   "metadata": {},
   "outputs": [
    {
     "data": {
      "text/html": [
       "<div>\n",
       "<style scoped>\n",
       "    .dataframe tbody tr th:only-of-type {\n",
       "        vertical-align: middle;\n",
       "    }\n",
       "\n",
       "    .dataframe tbody tr th {\n",
       "        vertical-align: top;\n",
       "    }\n",
       "\n",
       "    .dataframe thead tr th {\n",
       "        text-align: left;\n",
       "    }\n",
       "\n",
       "    .dataframe thead tr:last-of-type th {\n",
       "        text-align: right;\n",
       "    }\n",
       "</style>\n",
       "<table border=\"1\" class=\"dataframe\">\n",
       "  <thead>\n",
       "    <tr>\n",
       "      <th></th>\n",
       "      <th colspan=\"8\" halign=\"left\">total_amount</th>\n",
       "    </tr>\n",
       "    <tr>\n",
       "      <th></th>\n",
       "      <th>count</th>\n",
       "      <th>mean</th>\n",
       "      <th>std</th>\n",
       "      <th>min</th>\n",
       "      <th>25%</th>\n",
       "      <th>50%</th>\n",
       "      <th>75%</th>\n",
       "      <th>max</th>\n",
       "    </tr>\n",
       "    <tr>\n",
       "      <th>order_accept_month</th>\n",
       "      <th></th>\n",
       "      <th></th>\n",
       "      <th></th>\n",
       "      <th></th>\n",
       "      <th></th>\n",
       "      <th></th>\n",
       "      <th></th>\n",
       "      <th></th>\n",
       "    </tr>\n",
       "  </thead>\n",
       "  <tbody>\n",
       "    <tr>\n",
       "      <th>202004</th>\n",
       "      <td>189414.0</td>\n",
       "      <td>2959.440638</td>\n",
       "      <td>954.271169</td>\n",
       "      <td>698.0</td>\n",
       "      <td>2308.0</td>\n",
       "      <td>2808.0</td>\n",
       "      <td>3586.0</td>\n",
       "      <td>5100.0</td>\n",
       "    </tr>\n",
       "    <tr>\n",
       "      <th>202005</th>\n",
       "      <td>195684.0</td>\n",
       "      <td>2960.327799</td>\n",
       "      <td>954.823248</td>\n",
       "      <td>698.0</td>\n",
       "      <td>2308.0</td>\n",
       "      <td>2808.0</td>\n",
       "      <td>3586.0</td>\n",
       "      <td>5100.0</td>\n",
       "    </tr>\n",
       "    <tr>\n",
       "      <th>202006</th>\n",
       "      <td>189338.0</td>\n",
       "      <td>2960.486437</td>\n",
       "      <td>953.740057</td>\n",
       "      <td>698.0</td>\n",
       "      <td>2308.0</td>\n",
       "      <td>2808.0</td>\n",
       "      <td>3617.0</td>\n",
       "      <td>5100.0</td>\n",
       "    </tr>\n",
       "  </tbody>\n",
       "</table>\n",
       "</div>"
      ],
      "text/plain": [
       "                   total_amount                                          \\\n",
       "                          count         mean         std    min     25%   \n",
       "order_accept_month                                                        \n",
       "202004                 189414.0  2959.440638  954.271169  698.0  2308.0   \n",
       "202005                 195684.0  2960.327799  954.823248  698.0  2308.0   \n",
       "202006                 189338.0  2960.486437  953.740057  698.0  2308.0   \n",
       "\n",
       "                                            \n",
       "                       50%     75%     max  \n",
       "order_accept_month                          \n",
       "202004              2808.0  3586.0  5100.0  \n",
       "202005              2808.0  3586.0  5100.0  \n",
       "202006              2808.0  3617.0  5100.0  "
      ]
     },
     "execution_count": 12,
     "metadata": {},
     "output_type": "execute_result"
    }
   ],
   "source": [
    "month_data = analyze_data.groupby('order_accept_month')\n",
    "month_data.describe()"
   ]
  },
  {
   "cell_type": "code",
   "execution_count": 13,
   "metadata": {},
   "outputs": [
    {
     "data": {
      "text/html": [
       "<div>\n",
       "<style scoped>\n",
       "    .dataframe tbody tr th:only-of-type {\n",
       "        vertical-align: middle;\n",
       "    }\n",
       "\n",
       "    .dataframe tbody tr th {\n",
       "        vertical-align: top;\n",
       "    }\n",
       "\n",
       "    .dataframe thead th {\n",
       "        text-align: right;\n",
       "    }\n",
       "</style>\n",
       "<table border=\"1\" class=\"dataframe\">\n",
       "  <thead>\n",
       "    <tr style=\"text-align: right;\">\n",
       "      <th></th>\n",
       "      <th>total_amount</th>\n",
       "    </tr>\n",
       "    <tr>\n",
       "      <th>order_accept_month</th>\n",
       "      <th></th>\n",
       "    </tr>\n",
       "  </thead>\n",
       "  <tbody>\n",
       "    <tr>\n",
       "      <th>202004</th>\n",
       "      <td>560559489</td>\n",
       "    </tr>\n",
       "    <tr>\n",
       "      <th>202005</th>\n",
       "      <td>579288785</td>\n",
       "    </tr>\n",
       "    <tr>\n",
       "      <th>202006</th>\n",
       "      <td>560532581</td>\n",
       "    </tr>\n",
       "  </tbody>\n",
       "</table>\n",
       "</div>"
      ],
      "text/plain": [
       "                    total_amount\n",
       "order_accept_month              \n",
       "202004                 560559489\n",
       "202005                 579288785\n",
       "202006                 560532581"
      ]
     },
     "execution_count": 13,
     "metadata": {},
     "output_type": "execute_result"
    }
   ],
   "source": [
    "month_data.sum()"
   ]
  },
  {
   "cell_type": "markdown",
   "metadata": {},
   "source": [
    "### ノック１４：月別の推移を可視化してみよう"
   ]
  },
  {
   "cell_type": "code",
   "execution_count": 20,
   "metadata": {},
   "outputs": [
    {
     "data": {
      "text/plain": [
       "<matplotlib.axes._subplots.AxesSubplot at 0x7f55363b0668>"
      ]
     },
     "execution_count": 20,
     "metadata": {},
     "output_type": "execute_result"
    },
    {
     "data": {
      "image/png": "[encoded data removed]",
      "text/plain": [
       "<Figure size 432x288 with 1 Axes>"
      ]
     },
     "metadata": {
      "needs_background": "light"
     },
     "output_type": "display_data"
    }
   ],
   "source": [
    "import matplotlib.pyplot as plt\n",
    "%matplotlib inline\n",
    "month_data.sum().plot()"
   ]
  },
  {
   "cell_type": "code",
   "execution_count": 21,
   "metadata": {},
   "outputs": [
    {
     "data": {
      "text/plain": [
       "<matplotlib.axes._subplots.AxesSubplot at 0x7f55310a7c18>"
      ]
     },
     "execution_count": 21,
     "metadata": {},
     "output_type": "execute_result"
    },
    {
     "data": {
      "image/png": "[encoded data removed]",
      "text/plain": [
       "<Figure size 432x288 with 1 Axes>"
      ]
     },
     "metadata": {
      "needs_background": "light"
     },
     "output_type": "display_data"
    }
   ],
   "source": [
    "month_data.mean().plot()"
   ]
  },
  {
   "cell_type": "markdown",
   "metadata": {},
   "source": [
    "### ノック１５：売上からヒストグラムを作成してみよう"
   ]
  },
  {
   "cell_type": "code",
   "execution_count": 34,
   "metadata": {},
   "outputs": [
    {
     "data": {
      "image/png": "[encoded data removed]",
      "text/plain": [
       "<Figure size 432x288 with 1 Axes>"
      ]
     },
     "metadata": {
      "needs_background": "light"
     },
     "output_type": "display_data"
    }
   ],
   "source": [
    "plt.hist(analyze_data['total_amount'])\n",
    "plt.savefig(\"hist_10.png\")"
   ]
  },
  {
   "cell_type": "code",
   "execution_count": 35,
   "metadata": {},
   "outputs": [
    {
     "data": {
      "image/png": "[encoded data removed]",
      "text/plain": [
       "<Figure size 432x288 with 1 Axes>"
      ]
     },
     "metadata": {
      "needs_background": "light"
     },
     "output_type": "display_data"
    }
   ],
   "source": [
    "plt.hist(analyze_data['total_amount'], bins=21)\n",
    "plt.savefig(\"hist_21.png\")"
   ]
  },
  {
   "cell_type": "markdown",
   "metadata": {},
   "source": [
    "### ノック１６：都道府県別の売上を集計して可視化しよう"
   ]
  },
  {
   "cell_type": "code",
   "execution_count": 24,
   "metadata": {},
   "outputs": [
    {
     "data": {
      "text/html": [
       "<div>\n",
       "<style scoped>\n",
       "    .dataframe tbody tr th:only-of-type {\n",
       "        vertical-align: middle;\n",
       "    }\n",
       "\n",
       "    .dataframe tbody tr th {\n",
       "        vertical-align: top;\n",
       "    }\n",
       "\n",
       "    .dataframe thead th {\n",
       "        text-align: right;\n",
       "    }\n",
       "</style>\n",
       "<table border=\"1\" class=\"dataframe\">\n",
       "  <thead>\n",
       "    <tr style=\"text-align: right;\">\n",
       "      <th>narrow_area</th>\n",
       "      <th>千葉</th>\n",
       "      <th>埼玉</th>\n",
       "      <th>東京</th>\n",
       "      <th>栃木</th>\n",
       "      <th>神奈川</th>\n",
       "      <th>群馬</th>\n",
       "      <th>茨城</th>\n",
       "    </tr>\n",
       "    <tr>\n",
       "      <th>order_accept_month</th>\n",
       "      <th></th>\n",
       "      <th></th>\n",
       "      <th></th>\n",
       "      <th></th>\n",
       "      <th></th>\n",
       "      <th></th>\n",
       "      <th></th>\n",
       "    </tr>\n",
       "  </thead>\n",
       "  <tbody>\n",
       "    <tr>\n",
       "      <th>202004</th>\n",
       "      <td>2959.062000</td>\n",
       "      <td>2976.519634</td>\n",
       "      <td>2960.592173</td>\n",
       "      <td>2992.173548</td>\n",
       "      <td>2948.001171</td>\n",
       "      <td>2942.046543</td>\n",
       "      <td>2947.479814</td>\n",
       "    </tr>\n",
       "    <tr>\n",
       "      <th>202005</th>\n",
       "      <td>2953.545504</td>\n",
       "      <td>2977.290771</td>\n",
       "      <td>2962.603059</td>\n",
       "      <td>2998.165682</td>\n",
       "      <td>2949.597054</td>\n",
       "      <td>2948.269611</td>\n",
       "      <td>2941.796835</td>\n",
       "    </tr>\n",
       "    <tr>\n",
       "      <th>202006</th>\n",
       "      <td>2955.761885</td>\n",
       "      <td>2976.988380</td>\n",
       "      <td>2962.949987</td>\n",
       "      <td>2991.542844</td>\n",
       "      <td>2950.520464</td>\n",
       "      <td>2945.504744</td>\n",
       "      <td>2935.951783</td>\n",
       "    </tr>\n",
       "  </tbody>\n",
       "</table>\n",
       "</div>"
      ],
      "text/plain": [
       "narrow_area                  千葉           埼玉           東京           栃木  \\\n",
       "order_accept_month                                                       \n",
       "202004              2959.062000  2976.519634  2960.592173  2992.173548   \n",
       "202005              2953.545504  2977.290771  2962.603059  2998.165682   \n",
       "202006              2955.761885  2976.988380  2962.949987  2991.542844   \n",
       "\n",
       "narrow_area                 神奈川           群馬           茨城  \n",
       "order_accept_month                                         \n",
       "202004              2948.001171  2942.046543  2947.479814  \n",
       "202005              2949.597054  2948.269611  2941.796835  \n",
       "202006              2950.520464  2945.504744  2935.951783  "
      ]
     },
     "execution_count": 24,
     "metadata": {},
     "output_type": "execute_result"
    }
   ],
   "source": [
    "pre_data = pd.pivot_table(analyze_data, index='order_accept_month', columns='narrow_area', values='total_amount', aggfunc='mean')\n",
    "pre_data"
   ]
  },
  {
   "cell_type": "code",
   "execution_count": 25,
   "metadata": {},
   "outputs": [
    {
     "data": {
      "text/plain": [
       "<matplotlib.legend.Legend at 0x7f5530e84080>"
      ]
     },
     "execution_count": 25,
     "metadata": {},
     "output_type": "execute_result"
    },
    {
     "data": {
      "image/png": "[encoded data removed]",
      "text/plain": [
       "<Figure size 432x288 with 1 Axes>"
      ]
     },
     "metadata": {
      "needs_background": "light"
     },
     "output_type": "display_data"
    }
   ],
   "source": [
    "import japanize_matplotlib\n",
    "plt.plot(list(pre_data.index), pre_data['東京'], label='東京')\n",
    "plt.plot(list(pre_data.index), pre_data['神奈川'], label='神奈川')\n",
    "plt.plot(list(pre_data.index), pre_data['埼玉'], label='埼玉')\n",
    "plt.plot(list(pre_data.index), pre_data['千葉'], label='千葉')\n",
    "plt.plot(list(pre_data.index), pre_data['茨城'], label='茨城')\n",
    "plt.plot(list(pre_data.index), pre_data['栃木'], label='栃木')\n",
    "plt.plot(list(pre_data.index), pre_data['群馬'], label='群馬')\n",
    "plt.legend()"
   ]
  },
  {
   "cell_type": "markdown",
   "metadata": {},
   "source": [
    "### ノック１７：クラスタリングに向けてデータを加工しよう"
   ]
  },
  {
   "cell_type": "code",
   "execution_count": 38,
   "metadata": {},
   "outputs": [
    {
     "name": "stdout",
     "output_type": "stream",
     "text": [
      "196\n"
     ]
    },
    {
     "data": {
      "text/html": [
       "<div>\n",
       "<style scoped>\n",
       "    .dataframe tbody tr th:only-of-type {\n",
       "        vertical-align: middle;\n",
       "    }\n",
       "\n",
       "    .dataframe tbody tr th {\n",
       "        vertical-align: top;\n",
       "    }\n",
       "\n",
       "    .dataframe thead th {\n",
       "        text-align: right;\n",
       "    }\n",
       "</style>\n",
       "<table border=\"1\" class=\"dataframe\">\n",
       "  <thead>\n",
       "    <tr style=\"text-align: right;\">\n",
       "      <th></th>\n",
       "      <th>size</th>\n",
       "      <th>mean</th>\n",
       "      <th>median</th>\n",
       "      <th>max</th>\n",
       "      <th>min</th>\n",
       "    </tr>\n",
       "  </thead>\n",
       "  <tbody>\n",
       "    <tr>\n",
       "      <th>0</th>\n",
       "      <td>2877</td>\n",
       "      <td>3129.834897</td>\n",
       "      <td>3050</td>\n",
       "      <td>5100</td>\n",
       "      <td>1857</td>\n",
       "    </tr>\n",
       "    <tr>\n",
       "      <th>1</th>\n",
       "      <td>2294</td>\n",
       "      <td>2989.003923</td>\n",
       "      <td>2677</td>\n",
       "      <td>5100</td>\n",
       "      <td>698</td>\n",
       "    </tr>\n",
       "    <tr>\n",
       "      <th>2</th>\n",
       "      <td>3776</td>\n",
       "      <td>2947.170286</td>\n",
       "      <td>2808</td>\n",
       "      <td>5100</td>\n",
       "      <td>698</td>\n",
       "    </tr>\n",
       "    <tr>\n",
       "      <th>3</th>\n",
       "      <td>1740</td>\n",
       "      <td>3074.770115</td>\n",
       "      <td>2877</td>\n",
       "      <td>4744</td>\n",
       "      <td>1899</td>\n",
       "    </tr>\n",
       "    <tr>\n",
       "      <th>4</th>\n",
       "      <td>2760</td>\n",
       "      <td>2845.661594</td>\n",
       "      <td>2791</td>\n",
       "      <td>4744</td>\n",
       "      <td>698</td>\n",
       "    </tr>\n",
       "  </tbody>\n",
       "</table>\n",
       "</div>"
      ],
      "text/plain": [
       "   size         mean  median   max   min\n",
       "0  2877  3129.834897    3050  5100  1857\n",
       "1  2294  2989.003923    2677  5100   698\n",
       "2  3776  2947.170286    2808  5100   698\n",
       "3  1740  3074.770115    2877  4744  1899\n",
       "4  2760  2845.661594    2791  4744   698"
      ]
     },
     "execution_count": 38,
     "metadata": {},
     "output_type": "execute_result"
    }
   ],
   "source": [
    "store_clustering = analyze_data.groupby('store_id').agg(['size', 'mean', 'median', 'max', 'min'])['total_amount']\n",
    "store_clustering.reset_index(inplace = True, drop = True)\n",
    "print(len(store_clustering))\n",
    "store_clustering.head()"
   ]
  },
  {
   "cell_type": "code",
   "execution_count": 40,
   "metadata": {},
   "outputs": [
    {
     "data": {
      "image/png": "[encoded data removed]",
      "text/plain": [
       "<Figure size 432x432 with 3 Axes>"
      ]
     },
     "metadata": {
      "needs_background": "light"
     },
     "output_type": "display_data"
    }
   ],
   "source": [
    "import seaborn as sns\n",
    "hexbin = sns.jointplot(x='mean', y='size', data=store_clustering, kind='hex')\n",
    "hexbin.savefig(\"hex.png\")"
   ]
  },
  {
   "cell_type": "markdown",
   "metadata": {},
   "source": [
    "### ノック１８：クラスタリングで店舗をグループ化してみよう"
   ]
  },
  {
   "cell_type": "code",
   "execution_count": 45,
   "metadata": {},
   "outputs": [
    {
     "name": "stdout",
     "output_type": "stream",
     "text": [
      "[2 0 1 3]\n"
     ]
    },
    {
     "data": {
      "text/html": [
       "<div>\n",
       "<style scoped>\n",
       "    .dataframe tbody tr th:only-of-type {\n",
       "        vertical-align: middle;\n",
       "    }\n",
       "\n",
       "    .dataframe tbody tr th {\n",
       "        vertical-align: top;\n",
       "    }\n",
       "\n",
       "    .dataframe thead th {\n",
       "        text-align: right;\n",
       "    }\n",
       "</style>\n",
       "<table border=\"1\" class=\"dataframe\">\n",
       "  <thead>\n",
       "    <tr style=\"text-align: right;\">\n",
       "      <th></th>\n",
       "      <th>size</th>\n",
       "      <th>mean</th>\n",
       "      <th>median</th>\n",
       "      <th>max</th>\n",
       "      <th>min</th>\n",
       "      <th>cluster</th>\n",
       "    </tr>\n",
       "  </thead>\n",
       "  <tbody>\n",
       "    <tr>\n",
       "      <th>0</th>\n",
       "      <td>2877</td>\n",
       "      <td>3129.834897</td>\n",
       "      <td>3050</td>\n",
       "      <td>5100</td>\n",
       "      <td>1857</td>\n",
       "      <td>2</td>\n",
       "    </tr>\n",
       "    <tr>\n",
       "      <th>1</th>\n",
       "      <td>2294</td>\n",
       "      <td>2989.003923</td>\n",
       "      <td>2677</td>\n",
       "      <td>5100</td>\n",
       "      <td>698</td>\n",
       "      <td>0</td>\n",
       "    </tr>\n",
       "    <tr>\n",
       "      <th>2</th>\n",
       "      <td>3776</td>\n",
       "      <td>2947.170286</td>\n",
       "      <td>2808</td>\n",
       "      <td>5100</td>\n",
       "      <td>698</td>\n",
       "      <td>1</td>\n",
       "    </tr>\n",
       "    <tr>\n",
       "      <th>3</th>\n",
       "      <td>1740</td>\n",
       "      <td>3074.770115</td>\n",
       "      <td>2877</td>\n",
       "      <td>4744</td>\n",
       "      <td>1899</td>\n",
       "      <td>2</td>\n",
       "    </tr>\n",
       "    <tr>\n",
       "      <th>4</th>\n",
       "      <td>2760</td>\n",
       "      <td>2845.661594</td>\n",
       "      <td>2791</td>\n",
       "      <td>4744</td>\n",
       "      <td>698</td>\n",
       "      <td>0</td>\n",
       "    </tr>\n",
       "  </tbody>\n",
       "</table>\n",
       "</div>"
      ],
      "text/plain": [
       "   size         mean  median   max   min  cluster\n",
       "0  2877  3129.834897    3050  5100  1857        2\n",
       "1  2294  2989.003923    2677  5100   698        0\n",
       "2  3776  2947.170286    2808  5100   698        1\n",
       "3  1740  3074.770115    2877  4744  1899        2\n",
       "4  2760  2845.661594    2791  4744   698        0"
      ]
     },
     "execution_count": 45,
     "metadata": {},
     "output_type": "execute_result"
    }
   ],
   "source": [
    "from sklearn.cluster import KMeans\n",
    "from sklearn.preprocessing import StandardScaler\n",
    "sc = StandardScaler()\n",
    "store_clustering_sc = sc.fit_transform(store_clustering)\n",
    "\n",
    "kmeans = KMeans(n_clusters=4, random_state=0)\n",
    "clusters = kmeans.fit(store_clustering_sc)\n",
    "store_clustering['cluster'] = clusters.labels_\n",
    "print(store_clustering['cluster'].unique())\n",
    "store_clustering.head()"
   ]
  },
  {
   "cell_type": "markdown",
   "metadata": {},
   "source": [
    "### ノック１９：グループの傾向を分析してみよう"
   ]
  },
  {
   "cell_type": "code",
   "execution_count": 46,
   "metadata": {},
   "outputs": [
    {
     "data": {
      "text/html": [
       "<div>\n",
       "<style scoped>\n",
       "    .dataframe tbody tr th:only-of-type {\n",
       "        vertical-align: middle;\n",
       "    }\n",
       "\n",
       "    .dataframe tbody tr th {\n",
       "        vertical-align: top;\n",
       "    }\n",
       "\n",
       "    .dataframe thead th {\n",
       "        text-align: right;\n",
       "    }\n",
       "</style>\n",
       "<table border=\"1\" class=\"dataframe\">\n",
       "  <thead>\n",
       "    <tr style=\"text-align: right;\">\n",
       "      <th></th>\n",
       "      <th>月内件数</th>\n",
       "      <th>月内平均値</th>\n",
       "      <th>月内中央値</th>\n",
       "      <th>月内最大値</th>\n",
       "      <th>月内最小値</th>\n",
       "    </tr>\n",
       "    <tr>\n",
       "      <th>cluster</th>\n",
       "      <th></th>\n",
       "      <th></th>\n",
       "      <th></th>\n",
       "      <th></th>\n",
       "      <th></th>\n",
       "    </tr>\n",
       "  </thead>\n",
       "  <tbody>\n",
       "    <tr>\n",
       "      <th>0</th>\n",
       "      <td>68</td>\n",
       "      <td>68</td>\n",
       "      <td>68</td>\n",
       "      <td>68</td>\n",
       "      <td>68</td>\n",
       "    </tr>\n",
       "    <tr>\n",
       "      <th>1</th>\n",
       "      <td>90</td>\n",
       "      <td>90</td>\n",
       "      <td>90</td>\n",
       "      <td>90</td>\n",
       "      <td>90</td>\n",
       "    </tr>\n",
       "    <tr>\n",
       "      <th>2</th>\n",
       "      <td>14</td>\n",
       "      <td>14</td>\n",
       "      <td>14</td>\n",
       "      <td>14</td>\n",
       "      <td>14</td>\n",
       "    </tr>\n",
       "    <tr>\n",
       "      <th>3</th>\n",
       "      <td>24</td>\n",
       "      <td>24</td>\n",
       "      <td>24</td>\n",
       "      <td>24</td>\n",
       "      <td>24</td>\n",
       "    </tr>\n",
       "  </tbody>\n",
       "</table>\n",
       "</div>"
      ],
      "text/plain": [
       "         月内件数  月内平均値  月内中央値  月内最大値  月内最小値\n",
       "cluster                                  \n",
       "0          68     68     68     68     68\n",
       "1          90     90     90     90     90\n",
       "2          14     14     14     14     14\n",
       "3          24     24     24     24     24"
      ]
     },
     "execution_count": 46,
     "metadata": {},
     "output_type": "execute_result"
    }
   ],
   "source": [
    "store_clustering.columns = ['月内件数', '月内平均値', '月内中央値', '月内最大値', '月内最小値', 'cluster']\n",
    "store_clustering.groupby('cluster').count()"
   ]
  },
  {
   "cell_type": "code",
   "execution_count": 47,
   "metadata": {},
   "outputs": [
    {
     "data": {
      "text/html": [
       "<div>\n",
       "<style scoped>\n",
       "    .dataframe tbody tr th:only-of-type {\n",
       "        vertical-align: middle;\n",
       "    }\n",
       "\n",
       "    .dataframe tbody tr th {\n",
       "        vertical-align: top;\n",
       "    }\n",
       "\n",
       "    .dataframe thead th {\n",
       "        text-align: right;\n",
       "    }\n",
       "</style>\n",
       "<table border=\"1\" class=\"dataframe\">\n",
       "  <thead>\n",
       "    <tr style=\"text-align: right;\">\n",
       "      <th></th>\n",
       "      <th>月内件数</th>\n",
       "      <th>月内平均値</th>\n",
       "      <th>月内中央値</th>\n",
       "      <th>月内最大値</th>\n",
       "      <th>月内最小値</th>\n",
       "    </tr>\n",
       "    <tr>\n",
       "      <th>cluster</th>\n",
       "      <th></th>\n",
       "      <th></th>\n",
       "      <th></th>\n",
       "      <th></th>\n",
       "      <th></th>\n",
       "    </tr>\n",
       "  </thead>\n",
       "  <tbody>\n",
       "    <tr>\n",
       "      <th>0</th>\n",
       "      <td>2607.411765</td>\n",
       "      <td>2886.665573</td>\n",
       "      <td>2726.029412</td>\n",
       "      <td>4756.485294</td>\n",
       "      <td>744.073529</td>\n",
       "    </tr>\n",
       "    <tr>\n",
       "      <th>1</th>\n",
       "      <td>3274.322222</td>\n",
       "      <td>2967.131279</td>\n",
       "      <td>2797.700000</td>\n",
       "      <td>5076.266667</td>\n",
       "      <td>740.844444</td>\n",
       "    </tr>\n",
       "    <tr>\n",
       "      <th>2</th>\n",
       "      <td>2514.642857</td>\n",
       "      <td>3071.595911</td>\n",
       "      <td>2880.428571</td>\n",
       "      <td>4896.571429</td>\n",
       "      <td>1882.071429</td>\n",
       "    </tr>\n",
       "    <tr>\n",
       "      <th>3</th>\n",
       "      <td>2801.583333</td>\n",
       "      <td>3063.532847</td>\n",
       "      <td>3009.375000</td>\n",
       "      <td>5023.666667</td>\n",
       "      <td>758.250000</td>\n",
       "    </tr>\n",
       "  </tbody>\n",
       "</table>\n",
       "</div>"
      ],
      "text/plain": [
       "                月内件数        月内平均値        月内中央値        月内最大値        月内最小値\n",
       "cluster                                                                 \n",
       "0        2607.411765  2886.665573  2726.029412  4756.485294   744.073529\n",
       "1        3274.322222  2967.131279  2797.700000  5076.266667   740.844444\n",
       "2        2514.642857  3071.595911  2880.428571  4896.571429  1882.071429\n",
       "3        2801.583333  3063.532847  3009.375000  5023.666667   758.250000"
      ]
     },
     "execution_count": 47,
     "metadata": {},
     "output_type": "execute_result"
    }
   ],
   "source": [
    "store_clustering.groupby('cluster').mean()"
   ]
  },
  {
   "cell_type": "markdown",
   "metadata": {},
   "source": [
    "### ノック２０：クラスタリングの結果をt-SNEで可視化しよう"
   ]
  },
  {
   "cell_type": "code",
   "execution_count": 49,
   "metadata": {},
   "outputs": [
    {
     "data": {
      "text/html": [
       "<div>\n",
       "<style scoped>\n",
       "    .dataframe tbody tr th:only-of-type {\n",
       "        vertical-align: middle;\n",
       "    }\n",
       "\n",
       "    .dataframe tbody tr th {\n",
       "        vertical-align: top;\n",
       "    }\n",
       "\n",
       "    .dataframe thead th {\n",
       "        text-align: right;\n",
       "    }\n",
       "</style>\n",
       "<table border=\"1\" class=\"dataframe\">\n",
       "  <thead>\n",
       "    <tr style=\"text-align: right;\">\n",
       "      <th></th>\n",
       "      <th>axis_0</th>\n",
       "      <th>axis_1</th>\n",
       "      <th>cluster</th>\n",
       "    </tr>\n",
       "  </thead>\n",
       "  <tbody>\n",
       "    <tr>\n",
       "      <th>0</th>\n",
       "      <td>-5.116744</td>\n",
       "      <td>3.308903</td>\n",
       "      <td>2</td>\n",
       "    </tr>\n",
       "    <tr>\n",
       "      <th>1</th>\n",
       "      <td>11.047794</td>\n",
       "      <td>0.016504</td>\n",
       "      <td>0</td>\n",
       "    </tr>\n",
       "    <tr>\n",
       "      <th>2</th>\n",
       "      <td>13.164879</td>\n",
       "      <td>9.757247</td>\n",
       "      <td>1</td>\n",
       "    </tr>\n",
       "    <tr>\n",
       "      <th>3</th>\n",
       "      <td>-6.517968</td>\n",
       "      <td>1.094347</td>\n",
       "      <td>2</td>\n",
       "    </tr>\n",
       "    <tr>\n",
       "      <th>4</th>\n",
       "      <td>-10.660534</td>\n",
       "      <td>-10.523395</td>\n",
       "      <td>0</td>\n",
       "    </tr>\n",
       "  </tbody>\n",
       "</table>\n",
       "</div>"
      ],
      "text/plain": [
       "      axis_0     axis_1  cluster\n",
       "0  -5.116744   3.308903        2\n",
       "1  11.047794   0.016504        0\n",
       "2  13.164879   9.757247        1\n",
       "3  -6.517968   1.094347        2\n",
       "4 -10.660534 -10.523395        0"
      ]
     },
     "execution_count": 49,
     "metadata": {},
     "output_type": "execute_result"
    }
   ],
   "source": [
    "from sklearn.manifold import TSNE\n",
    "tsne = TSNE(n_components=2, random_state=0)\n",
    "x = tsne.fit_transform(store_clustering_sc)\n",
    "tsne_df = pd.DataFrame(x)\n",
    "tsne_df['cluster'] = store_clustering['cluster']\n",
    "tsne_df.columns = ['axis_0', 'axis_1', 'cluster']\n",
    "tsne_df.head()"
   ]
  },
  {
   "cell_type": "code",
   "execution_count": 56,
   "metadata": {},
   "outputs": [
    {
     "data": {
      "image/png": "[encoded data removed]",
      "text/plain": [
       "<Figure size 432x288 with 1 Axes>"
      ]
     },
     "metadata": {
      "needs_background": "light"
     },
     "output_type": "display_data"
    }
   ],
   "source": [
    "tsne_graph = sns.scatterplot(x='axis_0', y='axis_1', hue='cluster', data=tsne_df)\n",
    "# 画像を取得してセーブ\n",
    "figure = tsne_graph.get_figure()\n",
    "figure.savefig(\"cluster.png\")"
   ]
  }
 ],
 "metadata": {
  "kernelspec": {
   "display_name": "Python 3",
   "language": "python",
   "name": "python3"
  },
  "language_info": {
   "codemirror_mode": {
    "name": "ipython",
    "version": 3
   },
   "file_extension": ".py",
   "mimetype": "text/x-python",
   "name": "python",
   "nbconvert_exporter": "python",
   "pygments_lexer": "ipython3",
   "version": "3.6.9"
  }
 },
 "nbformat": 4,
 "nbformat_minor": 2
}
